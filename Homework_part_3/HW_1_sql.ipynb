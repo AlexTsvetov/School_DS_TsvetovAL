{
 "cells": [
  {
   "cell_type": "code",
   "execution_count": 86,
   "metadata": {
    "id": "MyhcP4Bbdwk3"
   },
   "outputs": [],
   "source": [
    "import sqlite3\n",
    "import pandas as pd"
   ]
  },
  {
   "cell_type": "code",
   "execution_count": 87,
   "metadata": {
    "id": "05KBnNvqdwk5"
   },
   "outputs": [],
   "source": [
    "con = sqlite3.connect(':memory:')"
   ]
  },
  {
   "cell_type": "code",
   "execution_count": 88,
   "metadata": {
    "id": "dpDkiyZndwk5"
   },
   "outputs": [],
   "source": [
    "table_names = [\n",
    "    'Categories',   # категории товаров\n",
    "    'Customers',    # заказчики\n",
    "    'Employees',    # сотрудники\n",
    "    'OrderDetails', # детали заказов\n",
    "    'Orders',       # заказы\n",
    "    'Products',     # товары\n",
    "    'Shippers',     # перевозчики\n",
    "    'Suppliers',    # поставщики\n",
    "]"
   ]
  },
  {
   "cell_type": "code",
   "execution_count": 89,
   "metadata": {
    "id": "kjFdyWE-dwk6"
   },
   "outputs": [],
   "source": [
    "for table in table_names:\n",
    "    data = pd.read_csv(f'{table}.csv', sep = ';')\n",
    "    data.to_sql(table, con, index=False, if_exists='replace')"
   ]
  },
  {
   "cell_type": "code",
   "execution_count": 90,
   "metadata": {
    "colab": {
     "base_uri": "https://localhost:8080/",
     "height": 81
    },
    "id": "LrSPeagGdwk6",
    "outputId": "4aefe2ef-0184-4326-8ba1-08c76b1df3fe"
   },
   "outputs": [
    {
     "data": {
      "text/html": [
       "<div>\n",
       "<style scoped>\n",
       "    .dataframe tbody tr th:only-of-type {\n",
       "        vertical-align: middle;\n",
       "    }\n",
       "\n",
       "    .dataframe tbody tr th {\n",
       "        vertical-align: top;\n",
       "    }\n",
       "\n",
       "    .dataframe thead th {\n",
       "        text-align: right;\n",
       "    }\n",
       "</style>\n",
       "<table border=\"1\" class=\"dataframe\">\n",
       "  <thead>\n",
       "    <tr style=\"text-align: right;\">\n",
       "      <th></th>\n",
       "      <th>ProductID</th>\n",
       "      <th>ProductName</th>\n",
       "      <th>SupplierID</th>\n",
       "      <th>CategoryID</th>\n",
       "      <th>Unit</th>\n",
       "      <th>Price</th>\n",
       "    </tr>\n",
       "  </thead>\n",
       "  <tbody>\n",
       "    <tr>\n",
       "      <th>0</th>\n",
       "      <td>1</td>\n",
       "      <td>Chais</td>\n",
       "      <td>1</td>\n",
       "      <td>1</td>\n",
       "      <td>10 boxes x 20 bags</td>\n",
       "      <td>18</td>\n",
       "    </tr>\n",
       "    <tr>\n",
       "      <th>1</th>\n",
       "      <td>2</td>\n",
       "      <td>Chang</td>\n",
       "      <td>1</td>\n",
       "      <td>1</td>\n",
       "      <td>24 - 12 oz bottles</td>\n",
       "      <td>19</td>\n",
       "    </tr>\n",
       "    <tr>\n",
       "      <th>2</th>\n",
       "      <td>3</td>\n",
       "      <td>Aniseed Syrup</td>\n",
       "      <td>1</td>\n",
       "      <td>2</td>\n",
       "      <td>12 - 550 ml bottles</td>\n",
       "      <td>10</td>\n",
       "    </tr>\n",
       "    <tr>\n",
       "      <th>3</th>\n",
       "      <td>4</td>\n",
       "      <td>Chef Anton's Cajun Seasoning</td>\n",
       "      <td>2</td>\n",
       "      <td>2</td>\n",
       "      <td>48 - 6 oz jars</td>\n",
       "      <td>22</td>\n",
       "    </tr>\n",
       "    <tr>\n",
       "      <th>4</th>\n",
       "      <td>5</td>\n",
       "      <td>Chef Anton's Gumbo Mix</td>\n",
       "      <td>2</td>\n",
       "      <td>2</td>\n",
       "      <td>36 boxes</td>\n",
       "      <td>21.35</td>\n",
       "    </tr>\n",
       "    <tr>\n",
       "      <th>...</th>\n",
       "      <td>...</td>\n",
       "      <td>...</td>\n",
       "      <td>...</td>\n",
       "      <td>...</td>\n",
       "      <td>...</td>\n",
       "      <td>...</td>\n",
       "    </tr>\n",
       "    <tr>\n",
       "      <th>72</th>\n",
       "      <td>73</td>\n",
       "      <td>Röd Kaviar</td>\n",
       "      <td>17</td>\n",
       "      <td>8</td>\n",
       "      <td>24 - 150 g jars</td>\n",
       "      <td>15</td>\n",
       "    </tr>\n",
       "    <tr>\n",
       "      <th>73</th>\n",
       "      <td>74</td>\n",
       "      <td>Longlife Tofu</td>\n",
       "      <td>4</td>\n",
       "      <td>7</td>\n",
       "      <td>5 kg pkg.</td>\n",
       "      <td>10</td>\n",
       "    </tr>\n",
       "    <tr>\n",
       "      <th>74</th>\n",
       "      <td>75</td>\n",
       "      <td>Rhönbräu Klosterbier</td>\n",
       "      <td>12</td>\n",
       "      <td>1</td>\n",
       "      <td>24 - 0.5 l bottles</td>\n",
       "      <td>июль.75</td>\n",
       "    </tr>\n",
       "    <tr>\n",
       "      <th>75</th>\n",
       "      <td>76</td>\n",
       "      <td>Lakkalikööri</td>\n",
       "      <td>23</td>\n",
       "      <td>1</td>\n",
       "      <td>500 ml</td>\n",
       "      <td>18</td>\n",
       "    </tr>\n",
       "    <tr>\n",
       "      <th>76</th>\n",
       "      <td>77</td>\n",
       "      <td>Original Frankfurter grüne Soße</td>\n",
       "      <td>12</td>\n",
       "      <td>2</td>\n",
       "      <td>12 boxes</td>\n",
       "      <td>13</td>\n",
       "    </tr>\n",
       "  </tbody>\n",
       "</table>\n",
       "<p>77 rows × 6 columns</p>\n",
       "</div>"
      ],
      "text/plain": [
       "    ProductID                      ProductName  SupplierID  CategoryID  \\\n",
       "0           1                            Chais           1           1   \n",
       "1           2                            Chang           1           1   \n",
       "2           3                    Aniseed Syrup           1           2   \n",
       "3           4     Chef Anton's Cajun Seasoning           2           2   \n",
       "4           5           Chef Anton's Gumbo Mix           2           2   \n",
       "..        ...                              ...         ...         ...   \n",
       "72         73                       Röd Kaviar          17           8   \n",
       "73         74                    Longlife Tofu           4           7   \n",
       "74         75             Rhönbräu Klosterbier          12           1   \n",
       "75         76                     Lakkalikööri          23           1   \n",
       "76         77  Original Frankfurter grüne Soße          12           2   \n",
       "\n",
       "                   Unit    Price  \n",
       "0    10 boxes x 20 bags       18  \n",
       "1    24 - 12 oz bottles       19  \n",
       "2   12 - 550 ml bottles       10  \n",
       "3        48 - 6 oz jars       22  \n",
       "4              36 boxes    21.35  \n",
       "..                  ...      ...  \n",
       "72      24 - 150 g jars       15  \n",
       "73            5 kg pkg.       10  \n",
       "74   24 - 0.5 l bottles  июль.75  \n",
       "75               500 ml       18  \n",
       "76             12 boxes       13  \n",
       "\n",
       "[77 rows x 6 columns]"
      ]
     },
     "execution_count": 90,
     "metadata": {},
     "output_type": "execute_result"
    }
   ],
   "source": [
    "pd.read_sql(\n",
    "    '''\n",
    "    select * from Products\n",
    "    ''',\n",
    "    con,\n",
    ")"
   ]
  },
  {
   "cell_type": "code",
   "execution_count": 91,
   "metadata": {
    "id": "egT_fQgCdwk6"
   },
   "outputs": [],
   "source": [
    "tasks = 0"
   ]
  },
  {
   "cell_type": "markdown",
   "metadata": {
    "id": "4aznzTmNdwk7"
   },
   "source": [
    "### Все задания нужно выполнить только с помощью sql"
   ]
  },
  {
   "cell_type": "markdown",
   "metadata": {
    "id": "lvmO-0XWdwk8"
   },
   "source": [
    "1. Выберите заказчиков из Германии, Франции и Мадрида, выведите их название, страну и адрес."
   ]
  },
  {
   "cell_type": "code",
   "execution_count": 92,
   "metadata": {
    "colab": {
     "base_uri": "https://localhost:8080/",
     "height": 739
    },
    "id": "WRjo8FbZdwk9",
    "outputId": "1d50d8a2-9767-410d-e5fb-ab4c0b59e265"
   },
   "outputs": [
    {
     "data": {
      "text/html": [
       "<div>\n",
       "<style scoped>\n",
       "    .dataframe tbody tr th:only-of-type {\n",
       "        vertical-align: middle;\n",
       "    }\n",
       "\n",
       "    .dataframe tbody tr th {\n",
       "        vertical-align: top;\n",
       "    }\n",
       "\n",
       "    .dataframe thead th {\n",
       "        text-align: right;\n",
       "    }\n",
       "</style>\n",
       "<table border=\"1\" class=\"dataframe\">\n",
       "  <thead>\n",
       "    <tr style=\"text-align: right;\">\n",
       "      <th></th>\n",
       "      <th>Name</th>\n",
       "      <th>Country</th>\n",
       "      <th>Address</th>\n",
       "    </tr>\n",
       "  </thead>\n",
       "  <tbody>\n",
       "    <tr>\n",
       "      <th>0</th>\n",
       "      <td>Alfreds Futterkiste</td>\n",
       "      <td>Germany</td>\n",
       "      <td>Obere Str. 57</td>\n",
       "    </tr>\n",
       "    <tr>\n",
       "      <th>1</th>\n",
       "      <td>Blauer See Delikatessen</td>\n",
       "      <td>Germany</td>\n",
       "      <td>Forsterstr. 57</td>\n",
       "    </tr>\n",
       "    <tr>\n",
       "      <th>2</th>\n",
       "      <td>Blondel père et fils</td>\n",
       "      <td>France</td>\n",
       "      <td>24, place Kléber</td>\n",
       "    </tr>\n",
       "    <tr>\n",
       "      <th>3</th>\n",
       "      <td>Bólido Comidas preparadas</td>\n",
       "      <td>Spain</td>\n",
       "      <td>C/ Araquil, 67</td>\n",
       "    </tr>\n",
       "    <tr>\n",
       "      <th>4</th>\n",
       "      <td>Bon app'</td>\n",
       "      <td>France</td>\n",
       "      <td>12, rue des Bouchers</td>\n",
       "    </tr>\n",
       "    <tr>\n",
       "      <th>5</th>\n",
       "      <td>Drachenblut Delikatessend</td>\n",
       "      <td>Germany</td>\n",
       "      <td>Walserweg 21</td>\n",
       "    </tr>\n",
       "    <tr>\n",
       "      <th>6</th>\n",
       "      <td>Du monde entier</td>\n",
       "      <td>France</td>\n",
       "      <td>67, rue des Cinquante Otages</td>\n",
       "    </tr>\n",
       "    <tr>\n",
       "      <th>7</th>\n",
       "      <td>FISSA Fabrica Inter. Salchichas S.A.</td>\n",
       "      <td>Spain</td>\n",
       "      <td>C/ Moralzarzal, 86</td>\n",
       "    </tr>\n",
       "    <tr>\n",
       "      <th>8</th>\n",
       "      <td>Folies gourmandes</td>\n",
       "      <td>France</td>\n",
       "      <td>184, chaussée de Tournai</td>\n",
       "    </tr>\n",
       "    <tr>\n",
       "      <th>9</th>\n",
       "      <td>Frankenversand</td>\n",
       "      <td>Germany</td>\n",
       "      <td>Berliner Platz 43</td>\n",
       "    </tr>\n",
       "    <tr>\n",
       "      <th>10</th>\n",
       "      <td>France restauration</td>\n",
       "      <td>France</td>\n",
       "      <td>54, rue Royale</td>\n",
       "    </tr>\n",
       "    <tr>\n",
       "      <th>11</th>\n",
       "      <td>Königlich Essen</td>\n",
       "      <td>Germany</td>\n",
       "      <td>Maubelstr. 90</td>\n",
       "    </tr>\n",
       "    <tr>\n",
       "      <th>12</th>\n",
       "      <td>La corne d'abondance</td>\n",
       "      <td>France</td>\n",
       "      <td>67, avenue de l'Europe</td>\n",
       "    </tr>\n",
       "    <tr>\n",
       "      <th>13</th>\n",
       "      <td>La maison d'Asie</td>\n",
       "      <td>France</td>\n",
       "      <td>1 rue Alsace-Lorraine</td>\n",
       "    </tr>\n",
       "    <tr>\n",
       "      <th>14</th>\n",
       "      <td>Lehmanns Marktstand</td>\n",
       "      <td>Germany</td>\n",
       "      <td>Magazinweg 7</td>\n",
       "    </tr>\n",
       "    <tr>\n",
       "      <th>15</th>\n",
       "      <td>Morgenstern Gesundkost</td>\n",
       "      <td>Germany</td>\n",
       "      <td>Heerstr. 22</td>\n",
       "    </tr>\n",
       "    <tr>\n",
       "      <th>16</th>\n",
       "      <td>Ottilies Käseladen</td>\n",
       "      <td>Germany</td>\n",
       "      <td>Mehrheimerstr. 369</td>\n",
       "    </tr>\n",
       "    <tr>\n",
       "      <th>17</th>\n",
       "      <td>Paris spécialités</td>\n",
       "      <td>France</td>\n",
       "      <td>265, boulevard Charonne</td>\n",
       "    </tr>\n",
       "    <tr>\n",
       "      <th>18</th>\n",
       "      <td>QUICK-Stop</td>\n",
       "      <td>Germany</td>\n",
       "      <td>Taucherstraße 10</td>\n",
       "    </tr>\n",
       "    <tr>\n",
       "      <th>19</th>\n",
       "      <td>Romero y tomillo</td>\n",
       "      <td>Spain</td>\n",
       "      <td>Gran Vía, 1</td>\n",
       "    </tr>\n",
       "    <tr>\n",
       "      <th>20</th>\n",
       "      <td>Spécialités du monde</td>\n",
       "      <td>France</td>\n",
       "      <td>25, rue Lauriston</td>\n",
       "    </tr>\n",
       "    <tr>\n",
       "      <th>21</th>\n",
       "      <td>Toms Spezialitäten</td>\n",
       "      <td>Germany</td>\n",
       "      <td>Luisenstr. 48</td>\n",
       "    </tr>\n",
       "    <tr>\n",
       "      <th>22</th>\n",
       "      <td>Victuailles en stock</td>\n",
       "      <td>France</td>\n",
       "      <td>2, rue du Commerce</td>\n",
       "    </tr>\n",
       "    <tr>\n",
       "      <th>23</th>\n",
       "      <td>Vins et alcools Chevalier</td>\n",
       "      <td>France</td>\n",
       "      <td>59 rue de l'Abbaye</td>\n",
       "    </tr>\n",
       "    <tr>\n",
       "      <th>24</th>\n",
       "      <td>Die Wandernde Kuh</td>\n",
       "      <td>Germany</td>\n",
       "      <td>Adenauerallee 900</td>\n",
       "    </tr>\n",
       "  </tbody>\n",
       "</table>\n",
       "</div>"
      ],
      "text/plain": [
       "                                    Name  Country  \\\n",
       "0                    Alfreds Futterkiste  Germany   \n",
       "1                Blauer See Delikatessen  Germany   \n",
       "2                   Blondel père et fils   France   \n",
       "3              Bólido Comidas preparadas    Spain   \n",
       "4                               Bon app'   France   \n",
       "5              Drachenblut Delikatessend  Germany   \n",
       "6                        Du monde entier   France   \n",
       "7   FISSA Fabrica Inter. Salchichas S.A.    Spain   \n",
       "8                      Folies gourmandes   France   \n",
       "9                         Frankenversand  Germany   \n",
       "10                   France restauration   France   \n",
       "11                       Königlich Essen  Germany   \n",
       "12                  La corne d'abondance   France   \n",
       "13                      La maison d'Asie   France   \n",
       "14                   Lehmanns Marktstand  Germany   \n",
       "15                Morgenstern Gesundkost  Germany   \n",
       "16                    Ottilies Käseladen  Germany   \n",
       "17                     Paris spécialités   France   \n",
       "18                            QUICK-Stop  Germany   \n",
       "19                      Romero y tomillo    Spain   \n",
       "20                  Spécialités du monde   France   \n",
       "21                    Toms Spezialitäten  Germany   \n",
       "22                  Victuailles en stock   France   \n",
       "23             Vins et alcools Chevalier   France   \n",
       "24                     Die Wandernde Kuh  Germany   \n",
       "\n",
       "                         Address  \n",
       "0                  Obere Str. 57  \n",
       "1                 Forsterstr. 57  \n",
       "2               24, place Kléber  \n",
       "3                 C/ Araquil, 67  \n",
       "4           12, rue des Bouchers  \n",
       "5                   Walserweg 21  \n",
       "6   67, rue des Cinquante Otages  \n",
       "7             C/ Moralzarzal, 86  \n",
       "8       184, chaussée de Tournai  \n",
       "9              Berliner Platz 43  \n",
       "10                54, rue Royale  \n",
       "11                 Maubelstr. 90  \n",
       "12        67, avenue de l'Europe  \n",
       "13         1 rue Alsace-Lorraine  \n",
       "14                  Magazinweg 7  \n",
       "15                   Heerstr. 22  \n",
       "16            Mehrheimerstr. 369  \n",
       "17       265, boulevard Charonne  \n",
       "18              Taucherstraße 10  \n",
       "19                   Gran Vía, 1  \n",
       "20             25, rue Lauriston  \n",
       "21                 Luisenstr. 48  \n",
       "22            2, rue du Commerce  \n",
       "23            59 rue de l'Abbaye  \n",
       "24             Adenauerallee 900  "
      ]
     },
     "execution_count": 92,
     "metadata": {},
     "output_type": "execute_result"
    }
   ],
   "source": [
    "tasks+=1\n",
    "pd.read_sql(\n",
    "    '''\n",
    "    SELECT CustomerName as Name, Country, Address FROM Customers\n",
    "    WHERE Country IN ('Germany','France') OR City ='Madrid'\n",
    "    ''',\n",
    "    con,\n",
    ")"
   ]
  },
  {
   "cell_type": "markdown",
   "metadata": {
    "id": "hY3wFIfZdwk9"
   },
   "source": [
    "2. Выберите топ 3 страны по количеству заказчиков, выведите их названия и количество записей."
   ]
  },
  {
   "cell_type": "code",
   "execution_count": 93,
   "metadata": {
    "colab": {
     "base_uri": "https://localhost:8080/",
     "height": 143
    },
    "id": "EY4lvvVgdwk-",
    "outputId": "9c616813-7f61-4156-ff3f-dbab4152fd93"
   },
   "outputs": [
    {
     "data": {
      "text/html": [
       "<div>\n",
       "<style scoped>\n",
       "    .dataframe tbody tr th:only-of-type {\n",
       "        vertical-align: middle;\n",
       "    }\n",
       "\n",
       "    .dataframe tbody tr th {\n",
       "        vertical-align: top;\n",
       "    }\n",
       "\n",
       "    .dataframe thead th {\n",
       "        text-align: right;\n",
       "    }\n",
       "</style>\n",
       "<table border=\"1\" class=\"dataframe\">\n",
       "  <thead>\n",
       "    <tr style=\"text-align: right;\">\n",
       "      <th></th>\n",
       "      <th>Country</th>\n",
       "      <th>Quantity</th>\n",
       "    </tr>\n",
       "  </thead>\n",
       "  <tbody>\n",
       "    <tr>\n",
       "      <th>0</th>\n",
       "      <td>USA</td>\n",
       "      <td>13</td>\n",
       "    </tr>\n",
       "    <tr>\n",
       "      <th>1</th>\n",
       "      <td>Germany</td>\n",
       "      <td>11</td>\n",
       "    </tr>\n",
       "    <tr>\n",
       "      <th>2</th>\n",
       "      <td>France</td>\n",
       "      <td>11</td>\n",
       "    </tr>\n",
       "  </tbody>\n",
       "</table>\n",
       "</div>"
      ],
      "text/plain": [
       "   Country  Quantity\n",
       "0      USA        13\n",
       "1  Germany        11\n",
       "2   France        11"
      ]
     },
     "execution_count": 93,
     "metadata": {},
     "output_type": "execute_result"
    }
   ],
   "source": [
    "tasks+=1\n",
    "pd.read_sql(\n",
    "    '''\n",
    "    SELECT Country,COUNT(CustomerName) AS Quantity FROM Customers\n",
    "    GROUP BY Country\n",
    "    ORDER BY Quantity DESC\n",
    "    LIMIT 3\n",
    "    ''',\n",
    "    con,\n",
    ")"
   ]
  },
  {
   "cell_type": "markdown",
   "metadata": {
    "id": "6D9v5DTfdwk-"
   },
   "source": [
    "3. Выберите перевозчика, который отправил 10-й по времени заказ, выведите его название, и дату отправления."
   ]
  },
  {
   "cell_type": "code",
   "execution_count": 94,
   "metadata": {
    "colab": {
     "base_uri": "https://localhost:8080/",
     "height": 424
    },
    "id": "_ykgb6KZdwk_",
    "outputId": "fadfa5bc-c245-4d74-93ab-b6ef136c1de6"
   },
   "outputs": [
    {
     "data": {
      "text/html": [
       "<div>\n",
       "<style scoped>\n",
       "    .dataframe tbody tr th:only-of-type {\n",
       "        vertical-align: middle;\n",
       "    }\n",
       "\n",
       "    .dataframe tbody tr th {\n",
       "        vertical-align: top;\n",
       "    }\n",
       "\n",
       "    .dataframe thead th {\n",
       "        text-align: right;\n",
       "    }\n",
       "</style>\n",
       "<table border=\"1\" class=\"dataframe\">\n",
       "  <thead>\n",
       "    <tr style=\"text-align: right;\">\n",
       "      <th></th>\n",
       "      <th>Name</th>\n",
       "      <th>OrderDate</th>\n",
       "    </tr>\n",
       "  </thead>\n",
       "  <tbody>\n",
       "    <tr>\n",
       "      <th>0</th>\n",
       "      <td>Federal Shipping</td>\n",
       "      <td>02.10.1996</td>\n",
       "    </tr>\n",
       "  </tbody>\n",
       "</table>\n",
       "</div>"
      ],
      "text/plain": [
       "               Name   OrderDate\n",
       "0  Federal Shipping  02.10.1996"
      ]
     },
     "execution_count": 94,
     "metadata": {},
     "output_type": "execute_result"
    }
   ],
   "source": [
    "tasks+=1\n",
    "pd.read_sql(\n",
    "    '''\n",
    "    SELECT ShipperName as Name, OrderDate FROM Orders\n",
    "    JOIN Shippers ON Shippers.ShipperID = Orders.ShipperID\n",
    "    ORDER BY OrderDate\n",
    "    LIMIT 1 OFFSET 9\n",
    "    ''',\n",
    "    con,\n",
    ")"
   ]
  },
  {
   "cell_type": "markdown",
   "metadata": {
    "id": "15Ilv9Zgdwk_"
   },
   "source": [
    "4. Выберите самый дорогой заказ, выведите список товаров с их ценами."
   ]
  },
  {
   "cell_type": "code",
   "execution_count": 95,
   "metadata": {
    "id": "nJ2OAcm1dwk_"
   },
   "outputs": [
    {
     "data": {
      "text/html": [
       "<div>\n",
       "<style scoped>\n",
       "    .dataframe tbody tr th:only-of-type {\n",
       "        vertical-align: middle;\n",
       "    }\n",
       "\n",
       "    .dataframe tbody tr th {\n",
       "        vertical-align: top;\n",
       "    }\n",
       "\n",
       "    .dataframe thead th {\n",
       "        text-align: right;\n",
       "    }\n",
       "</style>\n",
       "<table border=\"1\" class=\"dataframe\">\n",
       "  <thead>\n",
       "    <tr style=\"text-align: right;\">\n",
       "      <th></th>\n",
       "      <th>ProductName</th>\n",
       "      <th>Quantity</th>\n",
       "      <th>Price</th>\n",
       "      <th>Summa</th>\n",
       "    </tr>\n",
       "  </thead>\n",
       "  <tbody>\n",
       "    <tr>\n",
       "      <th>0</th>\n",
       "      <td>Sir Rodney's Marmalade</td>\n",
       "      <td>12</td>\n",
       "      <td>81</td>\n",
       "      <td>972.0</td>\n",
       "    </tr>\n",
       "    <tr>\n",
       "      <th>1</th>\n",
       "      <td>Côte de Blaye</td>\n",
       "      <td>40</td>\n",
       "      <td>263.5</td>\n",
       "      <td>10540.0</td>\n",
       "    </tr>\n",
       "    <tr>\n",
       "      <th>2</th>\n",
       "      <td>Camembert Pierrot</td>\n",
       "      <td>70</td>\n",
       "      <td>34</td>\n",
       "      <td>2380.0</td>\n",
       "    </tr>\n",
       "    <tr>\n",
       "      <th>3</th>\n",
       "      <td>Mozzarella di Giovanni</td>\n",
       "      <td>42</td>\n",
       "      <td>34.8</td>\n",
       "      <td>1461.6</td>\n",
       "    </tr>\n",
       "  </tbody>\n",
       "</table>\n",
       "</div>"
      ],
      "text/plain": [
       "              ProductName  Quantity  Price    Summa\n",
       "0  Sir Rodney's Marmalade        12     81    972.0\n",
       "1           Côte de Blaye        40  263.5  10540.0\n",
       "2       Camembert Pierrot        70     34   2380.0\n",
       "3  Mozzarella di Giovanni        42   34.8   1461.6"
      ]
     },
     "execution_count": 95,
     "metadata": {},
     "output_type": "execute_result"
    }
   ],
   "source": [
    "tasks+=1\n",
    "pd.read_sql(\n",
    "    '''\n",
    "    SELECT ProductName, Quantity, Price, Quantity*Price as Summa from Products\n",
    "    JOIN OrderDetails ON Products.ProductID = OrderDetails.ProductID\n",
    "    JOIN Orders ON OrderDetails.OrderID = Orders.OrderID\n",
    "    WHERE Orders.OrderID = (select OrderID from (select Orders.OrderID,SUM(Quantity*Price) as QW FROM Orders\n",
    "    JOIN OrderDetails ON Orders.OrderID = OrderDetails.OrderID\n",
    "    JOIN Products ON Products.ProductID = OrderDetails.ProductID\n",
    "    GROUP BY Orders.OrderID\n",
    "    Order by QW desc\n",
    "    limit 1))\n",
    "    ''',\n",
    "    con,\n",
    ")"
   ]
  },
  {
   "cell_type": "markdown",
   "metadata": {
    "id": "pHBKODpTdwk_"
   },
   "source": [
    "5. Какой товар больше всего заказывали по количеству единиц товара, выведите его название и количество единиц в каждом из заказов."
   ]
  },
  {
   "cell_type": "code",
   "execution_count": 96,
   "metadata": {
    "id": "r4hbDf0NdwlA"
   },
   "outputs": [
    {
     "data": {
      "text/html": [
       "<div>\n",
       "<style scoped>\n",
       "    .dataframe tbody tr th:only-of-type {\n",
       "        vertical-align: middle;\n",
       "    }\n",
       "\n",
       "    .dataframe tbody tr th {\n",
       "        vertical-align: top;\n",
       "    }\n",
       "\n",
       "    .dataframe thead th {\n",
       "        text-align: right;\n",
       "    }\n",
       "</style>\n",
       "<table border=\"1\" class=\"dataframe\">\n",
       "  <thead>\n",
       "    <tr style=\"text-align: right;\">\n",
       "      <th></th>\n",
       "      <th>ProductName</th>\n",
       "      <th>Quantity</th>\n",
       "    </tr>\n",
       "  </thead>\n",
       "  <tbody>\n",
       "    <tr>\n",
       "      <th>0</th>\n",
       "      <td>Gorgonzola Telino</td>\n",
       "      <td>4</td>\n",
       "    </tr>\n",
       "    <tr>\n",
       "      <th>1</th>\n",
       "      <td>Gorgonzola Telino</td>\n",
       "      <td>14</td>\n",
       "    </tr>\n",
       "    <tr>\n",
       "      <th>2</th>\n",
       "      <td>Gorgonzola Telino</td>\n",
       "      <td>15</td>\n",
       "    </tr>\n",
       "    <tr>\n",
       "      <th>3</th>\n",
       "      <td>Gorgonzola Telino</td>\n",
       "      <td>20</td>\n",
       "    </tr>\n",
       "    <tr>\n",
       "      <th>4</th>\n",
       "      <td>Gorgonzola Telino</td>\n",
       "      <td>20</td>\n",
       "    </tr>\n",
       "    <tr>\n",
       "      <th>5</th>\n",
       "      <td>Gorgonzola Telino</td>\n",
       "      <td>25</td>\n",
       "    </tr>\n",
       "    <tr>\n",
       "      <th>6</th>\n",
       "      <td>Gorgonzola Telino</td>\n",
       "      <td>30</td>\n",
       "    </tr>\n",
       "    <tr>\n",
       "      <th>7</th>\n",
       "      <td>Gorgonzola Telino</td>\n",
       "      <td>30</td>\n",
       "    </tr>\n",
       "    <tr>\n",
       "      <th>8</th>\n",
       "      <td>Gorgonzola Telino</td>\n",
       "      <td>32</td>\n",
       "    </tr>\n",
       "    <tr>\n",
       "      <th>9</th>\n",
       "      <td>Gorgonzola Telino</td>\n",
       "      <td>40</td>\n",
       "    </tr>\n",
       "    <tr>\n",
       "      <th>10</th>\n",
       "      <td>Gorgonzola Telino</td>\n",
       "      <td>42</td>\n",
       "    </tr>\n",
       "    <tr>\n",
       "      <th>11</th>\n",
       "      <td>Gorgonzola Telino</td>\n",
       "      <td>56</td>\n",
       "    </tr>\n",
       "    <tr>\n",
       "      <th>12</th>\n",
       "      <td>Gorgonzola Telino</td>\n",
       "      <td>60</td>\n",
       "    </tr>\n",
       "    <tr>\n",
       "      <th>13</th>\n",
       "      <td>Gorgonzola Telino</td>\n",
       "      <td>70</td>\n",
       "    </tr>\n",
       "  </tbody>\n",
       "</table>\n",
       "</div>"
      ],
      "text/plain": [
       "          ProductName  Quantity\n",
       "0   Gorgonzola Telino         4\n",
       "1   Gorgonzola Telino        14\n",
       "2   Gorgonzola Telino        15\n",
       "3   Gorgonzola Telino        20\n",
       "4   Gorgonzola Telino        20\n",
       "5   Gorgonzola Telino        25\n",
       "6   Gorgonzola Telino        30\n",
       "7   Gorgonzola Telino        30\n",
       "8   Gorgonzola Telino        32\n",
       "9   Gorgonzola Telino        40\n",
       "10  Gorgonzola Telino        42\n",
       "11  Gorgonzola Telino        56\n",
       "12  Gorgonzola Telino        60\n",
       "13  Gorgonzola Telino        70"
      ]
     },
     "execution_count": 96,
     "metadata": {},
     "output_type": "execute_result"
    }
   ],
   "source": [
    "tasks+=1\n",
    "pd.read_sql(\n",
    "    '''\n",
    "    SELECT ProductName, Quantity FROM OrderDetails\n",
    "    JOIN Products ON Products.ProductID = OrderDetails.ProductID\n",
    "    WHERE ProductName = (SELECT ProductName FROM(SELECT ProductName, sum(Quantity) AS SUMMA from OrderDetails\n",
    "    JOIN Products ON OrderDetails.ProductID = Products.ProductID\n",
    "    GROUP BY ProductName\n",
    "    ORDER BY SUMMA desc\n",
    "    LIMIT 1))\n",
    "    \n",
    "\n",
    "    ''',\n",
    "    con,\n",
    ")"
   ]
  },
  {
   "cell_type": "markdown",
   "metadata": {
    "id": "kQ8ESTH0dwlA"
   },
   "source": [
    "6. Выведите топ 5 поставщиков по количеству заказов, выведите их названия, страну, контактное лицо и телефон."
   ]
  },
  {
   "cell_type": "code",
   "execution_count": 97,
   "metadata": {
    "id": "YJQvdEQSdwlA"
   },
   "outputs": [
    {
     "data": {
      "text/html": [
       "<div>\n",
       "<style scoped>\n",
       "    .dataframe tbody tr th:only-of-type {\n",
       "        vertical-align: middle;\n",
       "    }\n",
       "\n",
       "    .dataframe tbody tr th {\n",
       "        vertical-align: top;\n",
       "    }\n",
       "\n",
       "    .dataframe thead th {\n",
       "        text-align: right;\n",
       "    }\n",
       "</style>\n",
       "<table border=\"1\" class=\"dataframe\">\n",
       "  <thead>\n",
       "    <tr style=\"text-align: right;\">\n",
       "      <th></th>\n",
       "      <th>SupplierName</th>\n",
       "      <th>Country</th>\n",
       "      <th>ContactName</th>\n",
       "      <th>Phone</th>\n",
       "    </tr>\n",
       "  </thead>\n",
       "  <tbody>\n",
       "    <tr>\n",
       "      <th>0</th>\n",
       "      <td>Plutzer Lebensmittelgroßmärkte AG</td>\n",
       "      <td>Germany</td>\n",
       "      <td>Martin Bein</td>\n",
       "      <td>(069) 992755</td>\n",
       "    </tr>\n",
       "    <tr>\n",
       "      <th>1</th>\n",
       "      <td>Pavlova, Ltd.</td>\n",
       "      <td>Australia</td>\n",
       "      <td>Ian Devling</td>\n",
       "      <td>(03) 444-2343</td>\n",
       "    </tr>\n",
       "    <tr>\n",
       "      <th>2</th>\n",
       "      <td>Specialty Biscuits, Ltd.</td>\n",
       "      <td>UK</td>\n",
       "      <td>Peter Wilson</td>\n",
       "      <td>(161) 555-4448</td>\n",
       "    </tr>\n",
       "    <tr>\n",
       "      <th>3</th>\n",
       "      <td>Norske Meierier</td>\n",
       "      <td>Norway</td>\n",
       "      <td>Beate Vileid</td>\n",
       "      <td>(0)2-953010</td>\n",
       "    </tr>\n",
       "    <tr>\n",
       "      <th>4</th>\n",
       "      <td>Formaggi Fortini s.r.l.</td>\n",
       "      <td>Italy</td>\n",
       "      <td>Elio Rossi</td>\n",
       "      <td>(0544) 60323</td>\n",
       "    </tr>\n",
       "  </tbody>\n",
       "</table>\n",
       "</div>"
      ],
      "text/plain": [
       "                        SupplierName    Country   ContactName           Phone\n",
       "0  Plutzer Lebensmittelgroßmärkte AG    Germany   Martin Bein    (069) 992755\n",
       "1                      Pavlova, Ltd.  Australia   Ian Devling   (03) 444-2343\n",
       "2           Specialty Biscuits, Ltd.         UK  Peter Wilson  (161) 555-4448\n",
       "3                    Norske Meierier     Norway  Beate Vileid     (0)2-953010\n",
       "4            Formaggi Fortini s.r.l.      Italy    Elio Rossi    (0544) 60323"
      ]
     },
     "execution_count": 97,
     "metadata": {},
     "output_type": "execute_result"
    }
   ],
   "source": [
    "tasks+=1\n",
    "pd.read_sql(\n",
    "    '''\n",
    "    SELECT SupplierName, Country, ContactName, Phone FROM Orders\n",
    "    JOIN OrderDetails ON Orders.OrderID = OrderDetails.OrderID\n",
    "    JOIN Products ON OrderDetails.ProductID = Products.ProductID\n",
    "    JOIN Suppliers ON Products.SupplierID = Suppliers.SupplierID\n",
    "    GROUP BY SupplierName\n",
    "    ORDER BY COUNT(Products.SupplierID) desc\n",
    "    LIMIT 5\n",
    "    ''',\n",
    "    con,\n",
    ")"
   ]
  },
  {
   "cell_type": "markdown",
   "metadata": {
    "id": "K27PsKczdwlA"
   },
   "source": [
    "7. Какую категорию товаров заказывали больше всего по стоимости в Бразилии, выведите страну, название категории и сумму."
   ]
  },
  {
   "cell_type": "code",
   "execution_count": 98,
   "metadata": {
    "id": "ST1aSCk2dwlA"
   },
   "outputs": [
    {
     "data": {
      "text/html": [
       "<div>\n",
       "<style scoped>\n",
       "    .dataframe tbody tr th:only-of-type {\n",
       "        vertical-align: middle;\n",
       "    }\n",
       "\n",
       "    .dataframe tbody tr th {\n",
       "        vertical-align: top;\n",
       "    }\n",
       "\n",
       "    .dataframe thead th {\n",
       "        text-align: right;\n",
       "    }\n",
       "</style>\n",
       "<table border=\"1\" class=\"dataframe\">\n",
       "  <thead>\n",
       "    <tr style=\"text-align: right;\">\n",
       "      <th></th>\n",
       "      <th>Country</th>\n",
       "      <th>CategoryName</th>\n",
       "      <th>SUMMA</th>\n",
       "    </tr>\n",
       "  </thead>\n",
       "  <tbody>\n",
       "    <tr>\n",
       "      <th>0</th>\n",
       "      <td>Brazil</td>\n",
       "      <td>Beverages</td>\n",
       "      <td>13636.0</td>\n",
       "    </tr>\n",
       "  </tbody>\n",
       "</table>\n",
       "</div>"
      ],
      "text/plain": [
       "  Country CategoryName    SUMMA\n",
       "0  Brazil    Beverages  13636.0"
      ]
     },
     "execution_count": 98,
     "metadata": {},
     "output_type": "execute_result"
    }
   ],
   "source": [
    "tasks+=1\n",
    "pd.read_sql(\n",
    "    '''\n",
    "    SELECT Customers.Country, Categories.CategoryName, SUM(Quantity*Price) as SUMMA FROM Orders\n",
    "    JOIN Customers ON Orders.CustomerID = Customers.CustomerID\n",
    "    JOIN OrderDetails ON Orders.OrderID = OrderDetails.OrderID\n",
    "    JOIN Products ON OrderDetails.ProductID =Products.ProductID\n",
    "    JOIN Categories ON Products.CategoryID = Categories.CategoryID\n",
    "    WHERE Customers.Country = 'Brazil'\n",
    "    GROUP BY Products.CategoryID\n",
    "    ORDER BY SUMMA desc\n",
    "    LIMIT 1\n",
    "    ''',\n",
    "    con,\n",
    ")"
   ]
  },
  {
   "cell_type": "markdown",
   "metadata": {
    "id": "y4DEeUgUdwlB"
   },
   "source": [
    "8. Какая разница в стоимости между самым дорогим и самым дешевым заказом из США."
   ]
  },
  {
   "cell_type": "code",
   "execution_count": 99,
   "metadata": {
    "id": "wCl6Y2sXdwlB"
   },
   "outputs": [
    {
     "data": {
      "text/html": [
       "<div>\n",
       "<style scoped>\n",
       "    .dataframe tbody tr th:only-of-type {\n",
       "        vertical-align: middle;\n",
       "    }\n",
       "\n",
       "    .dataframe tbody tr th {\n",
       "        vertical-align: top;\n",
       "    }\n",
       "\n",
       "    .dataframe thead th {\n",
       "        text-align: right;\n",
       "    }\n",
       "</style>\n",
       "<table border=\"1\" class=\"dataframe\">\n",
       "  <thead>\n",
       "    <tr style=\"text-align: right;\">\n",
       "      <th></th>\n",
       "      <th>ITOG</th>\n",
       "    </tr>\n",
       "  </thead>\n",
       "  <tbody>\n",
       "    <tr>\n",
       "      <th>0</th>\n",
       "      <td>7698.45</td>\n",
       "    </tr>\n",
       "  </tbody>\n",
       "</table>\n",
       "</div>"
      ],
      "text/plain": [
       "      ITOG\n",
       "0  7698.45"
      ]
     },
     "execution_count": 99,
     "metadata": {},
     "output_type": "execute_result"
    }
   ],
   "source": [
    "tasks+=1\n",
    "pd.read_sql(\n",
    "    '''\n",
    "    SELECT MAX(SUMMA) - MIN(SUMMA) as ITOG FROM (\n",
    "    SELECT SUM(Quantity*Price) as SUMMA FROM Orders\n",
    "    JOIN OrderDetails ON Orders.OrderID = OrderDetails.OrderID\n",
    "    JOIN Products ON Products.ProductID = OrderDetails.ProductID\n",
    "    JOIN Customers ON Orders.CustomerID =Customers.CustomerID\n",
    "    WHERE Customers.Country = 'USA'\n",
    "    GROUP BY Orders.OrderID\n",
    "    )\n",
    "    \n",
    "    ''',\n",
    "    con,\n",
    ")"
   ]
  },
  {
   "cell_type": "markdown",
   "metadata": {
    "id": "J78MwM9qdwlB"
   },
   "source": [
    "9. Выведите количество заказов у каждого их трех самых молодых сотрудников, а также имя и фамилию во второй колонке."
   ]
  },
  {
   "cell_type": "code",
   "execution_count": 100,
   "metadata": {
    "id": "97lrxRdrdwlB"
   },
   "outputs": [
    {
     "data": {
      "text/html": [
       "<div>\n",
       "<style scoped>\n",
       "    .dataframe tbody tr th:only-of-type {\n",
       "        vertical-align: middle;\n",
       "    }\n",
       "\n",
       "    .dataframe tbody tr th {\n",
       "        vertical-align: top;\n",
       "    }\n",
       "\n",
       "    .dataframe thead th {\n",
       "        text-align: right;\n",
       "    }\n",
       "</style>\n",
       "<table border=\"1\" class=\"dataframe\">\n",
       "  <thead>\n",
       "    <tr style=\"text-align: right;\">\n",
       "      <th></th>\n",
       "      <th>COUNT_ORDER</th>\n",
       "      <th>FULL_NAME</th>\n",
       "    </tr>\n",
       "  </thead>\n",
       "  <tbody>\n",
       "    <tr>\n",
       "      <th>0</th>\n",
       "      <td>29</td>\n",
       "      <td>Nancy Davolio</td>\n",
       "    </tr>\n",
       "    <tr>\n",
       "      <th>1</th>\n",
       "      <td>31</td>\n",
       "      <td>Janet Leverling</td>\n",
       "    </tr>\n",
       "    <tr>\n",
       "      <th>2</th>\n",
       "      <td>6</td>\n",
       "      <td>Anne Dodsworth</td>\n",
       "    </tr>\n",
       "  </tbody>\n",
       "</table>\n",
       "</div>"
      ],
      "text/plain": [
       "   COUNT_ORDER        FULL_NAME\n",
       "0           29    Nancy Davolio\n",
       "1           31  Janet Leverling\n",
       "2            6   Anne Dodsworth"
      ]
     },
     "execution_count": 100,
     "metadata": {},
     "output_type": "execute_result"
    }
   ],
   "source": [
    "tasks+=1\n",
    "pd.read_sql(\n",
    "    '''\n",
    "    SELECT COUNT(Orders.EmployeeID) as COUNT_ORDER, (FirstName || ' '|| LastName) as FULL_NAME FROM Orders\n",
    "    JOIN Employees ON Orders.EmployeeID = Employees.EmployeeID\n",
    "    WHERE Orders.EmployeeID IN (SELECT EmployeeID FROM (SELECT  *, (substr(BirthDate, 7, 4) || '-' || substr(BirthDate, 4, 2) || '-' || substr(BirthDate, 1, 2)) as new_date\n",
    "    FROM Employees \n",
    "    ORDER BY new_date desc\n",
    "    LIMIT 3))\n",
    "    GROUP BY Orders.EmployeeID\n",
    "    ''',\n",
    "    con,\n",
    ")"
   ]
  },
  {
   "cell_type": "markdown",
   "metadata": {
    "id": "YbMzjeDEdwlC"
   },
   "source": [
    "10. Сколько банок крабового мяса всего было заказано."
   ]
  },
  {
   "cell_type": "code",
   "execution_count": 101,
   "metadata": {
    "id": "qAQLMrnudwlC"
   },
   "outputs": [
    {
     "data": {
      "text/html": [
       "<div>\n",
       "<style scoped>\n",
       "    .dataframe tbody tr th:only-of-type {\n",
       "        vertical-align: middle;\n",
       "    }\n",
       "\n",
       "    .dataframe tbody tr th {\n",
       "        vertical-align: top;\n",
       "    }\n",
       "\n",
       "    .dataframe thead th {\n",
       "        text-align: right;\n",
       "    }\n",
       "</style>\n",
       "<table border=\"1\" class=\"dataframe\">\n",
       "  <thead>\n",
       "    <tr style=\"text-align: right;\">\n",
       "      <th></th>\n",
       "      <th>ITOG_Crab_Meat</th>\n",
       "    </tr>\n",
       "  </thead>\n",
       "  <tbody>\n",
       "    <tr>\n",
       "      <th>0</th>\n",
       "      <td>6144</td>\n",
       "    </tr>\n",
       "  </tbody>\n",
       "</table>\n",
       "</div>"
      ],
      "text/plain": [
       "   ITOG_Crab_Meat\n",
       "0            6144"
      ]
     },
     "execution_count": 101,
     "metadata": {},
     "output_type": "execute_result"
    }
   ],
   "source": [
    "tasks+=1\n",
    "pd.read_sql(\n",
    "    '''\n",
    "    SELECT SUM(Quantity)*24 as ITOG_Crab_Meat FROM OrderDetails\n",
    "    JOIN Products ON OrderDetails.ProductID = Products.ProductID\n",
    "    WHERE Products.ProductID = (SELECT ProductID FROM Products WHERE ProductName LIKE '%Crab Meat')\n",
    "   \n",
    "    ''',\n",
    "    con,\n",
    ")"
   ]
  },
  {
   "cell_type": "code",
   "execution_count": 102,
   "metadata": {
    "code_folding": [],
    "id": "rGFaEhLfdwlC"
   },
   "outputs": [
    {
     "name": "stdout",
     "output_type": "stream",
     "text": [
      "Выполнены все задания 🙂\n"
     ]
    }
   ],
   "source": [
    "if tasks==10:\n",
    "    print('Выполнены все задания 🙂')\n",
    "else:\n",
    "    print('Выполнены не все задания! 🙀')"
   ]
  }
 ],
 "metadata": {
  "colab": {
   "provenance": []
  },
  "kernelspec": {
   "display_name": "Python 3 (ipykernel)",
   "language": "python",
   "name": "python3"
  },
  "language_info": {
   "codemirror_mode": {
    "name": "ipython",
    "version": 3
   },
   "file_extension": ".py",
   "mimetype": "text/x-python",
   "name": "python",
   "nbconvert_exporter": "python",
   "pygments_lexer": "ipython3",
   "version": "3.9.12"
  }
 },
 "nbformat": 4,
 "nbformat_minor": 1
}
