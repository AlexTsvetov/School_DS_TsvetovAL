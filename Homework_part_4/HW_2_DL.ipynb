{
 "cells": [
  {
   "cell_type": "code",
   "execution_count": 125,
   "id": "2f5c7c5c",
   "metadata": {},
   "outputs": [],
   "source": [
    "import matplotlib.pyplot as plt\n",
    "import numpy\n",
    "import torch\n",
    "import torch.nn as nn\n",
    "import torchvision.models as models\n",
    "from torchvision import datasets, transforms\n",
    "from torch.utils.data import DataLoader"
   ]
  },
  {
   "cell_type": "raw",
   "id": "59649fc0",
   "metadata": {},
   "source": [
    "-архитектура модели\n",
    "-гиперпараметры\n",
    "-загрузчик данных\n",
    "-формирование батча\n",
    "-инициализировать модель\n",
    "-оптимизатор\n",
    "-функция потерь\n",
    "-опционально шедулеры\n",
    "-трейн луп"
   ]
  },
  {
   "cell_type": "code",
   "execution_count": 126,
   "id": "e44a96e8",
   "metadata": {},
   "outputs": [],
   "source": [
    "# hyperparams\n",
    "inp_dim = 28 * 28\n",
    "hidden = 256\n",
    "out_dim = 10\n",
    "device_id = -1\n",
    "device = 'cpu' if device_id == -1 else f'cuda:{device_id}' # 'cuda:0' id GPU\n",
    "n_epochs = 10\n",
    "batch_size = 128"
   ]
  },
  {
   "cell_type": "code",
   "execution_count": 127,
   "id": "710be8f9",
   "metadata": {},
   "outputs": [],
   "source": [
    "transform = transforms.Compose(\n",
    "    [transforms.ToTensor(),\n",
    "     transforms.Normalize((0.5), (0.5)),\n",
    "     ])\n",
    "\n",
    "# зашружаем тренировочный сет\n",
    "dataset_train = datasets.MNIST('.', \n",
    "                               train=True,            \n",
    "                               download=True, \n",
    "                               transform=transform)\n",
    "\n",
    "dataset_test = datasets.MNIST('.', \n",
    "                              train=False,\n",
    "                              download=True, \n",
    "                              transform=transform)"
   ]
  },
  {
   "cell_type": "code",
   "execution_count": 128,
   "id": "76b7330c",
   "metadata": {},
   "outputs": [
    {
     "data": {
      "text/plain": [
       "(Dataset MNIST\n",
       "     Number of datapoints: 60000\n",
       "     Root location: .\n",
       "     Split: Train\n",
       "     StandardTransform\n",
       " Transform: Compose(\n",
       "                ToTensor()\n",
       "                Normalize(mean=0.5, std=0.5)\n",
       "            ),\n",
       " Dataset MNIST\n",
       "     Number of datapoints: 10000\n",
       "     Root location: .\n",
       "     Split: Test\n",
       "     StandardTransform\n",
       " Transform: Compose(\n",
       "                ToTensor()\n",
       "                Normalize(mean=0.5, std=0.5)\n",
       "            ))"
      ]
     },
     "execution_count": 128,
     "metadata": {},
     "output_type": "execute_result"
    }
   ],
   "source": [
    "dataset_train, dataset_test"
   ]
  },
  {
   "cell_type": "code",
   "execution_count": 129,
   "id": "f08457db",
   "metadata": {},
   "outputs": [
    {
     "data": {
      "image/png": "[encoded data removed]",
      "text/plain": [
       "<Figure size 432x288 with 1 Axes>"
      ]
     },
     "metadata": {
      "needs_background": "light"
     },
     "output_type": "display_data"
    }
   ],
   "source": [
    "plt.imshow(dataset_train.data[5].detach().numpy(), cmap='binary')\n",
    "plt.show()"
   ]
  },
  {
   "cell_type": "code",
   "execution_count": 151,
   "id": "5a9d90f7",
   "metadata": {},
   "outputs": [],
   "source": [
    "#добавлю еще доп слой в модель\n",
    "class LinearModel(nn.Module):\n",
    "    def __init__(self, input_dim, hidden_dim, output_dim, dropout_p=0.1):\n",
    "        super().__init__()\n",
    "        self.linear1 = nn.Linear(input_dim, hidden_dim) #784 * 256\n",
    "        self.do = nn.Dropout(dropout_p)\n",
    "        self.linear2 = nn.Linear(hidden_dim, 100)\n",
    "        self.activ = nn.ReLU()\n",
    "        self.linear3 = nn.Linear(100, output_dim)\n",
    "\n",
    "    def forward(self, x):\n",
    "        x = self.linear1(x)\n",
    "        x = self.activ(x)\n",
    "        x = self.linear2(x)\n",
    "        x = self.do(x)\n",
    "        x = self.activ(x)\n",
    "        x = self.linear3(x)\n",
    "\n",
    "        return x"
   ]
  },
  {
   "cell_type": "code",
   "execution_count": 152,
   "id": "d31d51a1",
   "metadata": {},
   "outputs": [],
   "source": [
    "# Как формируется батч\n",
    "# dataloader берет из Samler набор индексов и по этим индексам получает элементы из Dataset\n",
    "dataset = datasets.MNIST('.', train=True, download=True)\n",
    "\n",
    "def collate_fn(data: list):\n",
    "    # data = [(pic, target)...]\n",
    "    pics = []\n",
    "    targets = []\n",
    "    for item in data:\n",
    "        pics.append(numpy.array(item[0]))\n",
    "        targets.append(item[1])\n",
    "    pics = torch.from_numpy(numpy.array(pics)).float() / 255\n",
    "    pics = pics.view(pics.size(0), -1) # mtx 28x28 to vec 784\n",
    "    targets = torch.from_numpy(numpy.array(targets)).type(torch.LongTensor)\n",
    "\n",
    "    return {\n",
    "        'data': pics,\n",
    "        'target': targets,\n",
    "    }"
   ]
  },
  {
   "cell_type": "code",
   "execution_count": 153,
   "id": "d031e20e",
   "metadata": {},
   "outputs": [],
   "source": [
    "#формируем загрузчик по тренировочному и тестовому набору \n",
    "dataloader_train = DataLoader(dataset_train, \n",
    "                        batch_size, \n",
    "                        shuffle=True, \n",
    "                        collate_fn=collate_fn,\n",
    "                        drop_last = True)"
   ]
  },
  {
   "cell_type": "code",
   "execution_count": 154,
   "id": "931cf12c",
   "metadata": {},
   "outputs": [],
   "source": [
    "dataloader_test = DataLoader(dataset_test, \n",
    "                        batch_size, \n",
    "                        shuffle=True, \n",
    "                        collate_fn=collate_fn,\n",
    "                        drop_last = True)"
   ]
  },
  {
   "cell_type": "code",
   "execution_count": 155,
   "id": "62f35b69",
   "metadata": {},
   "outputs": [],
   "source": [
    "#инициализируем модель\n",
    "model = LinearModel(inp_dim, hidden, out_dim)\n",
    "model.train() \n",
    "optim = torch.optim.Adam(model.parameters())\n",
    "loss_func = nn.CrossEntropyLoss()"
   ]
  },
  {
   "cell_type": "code",
   "execution_count": 156,
   "id": "c02b0a14",
   "metadata": {},
   "outputs": [
    {
     "name": "stdout",
     "output_type": "stream",
     "text": [
      "epoch: 0, step: 0, loss: 2.30100417137146\n",
      "epoch: 0, step: 100, loss: 1.964905858039856\n",
      "epoch: 0, step: 200, loss: 1.2235324382781982\n",
      "epoch: 0, step: 300, loss: 0.9766750931739807\n",
      "epoch: 0, step: 400, loss: 1.0052082538604736\n",
      "epoch: 1, step: 0, loss: 0.7352019548416138\n",
      "epoch: 1, step: 100, loss: 0.6033915877342224\n",
      "epoch: 1, step: 200, loss: 0.6884259581565857\n",
      "epoch: 1, step: 300, loss: 0.6365694403648376\n",
      "epoch: 1, step: 400, loss: 0.5349210500717163\n",
      "epoch: 2, step: 0, loss: 0.48190775513648987\n",
      "epoch: 2, step: 100, loss: 0.4729761481285095\n",
      "epoch: 2, step: 200, loss: 0.48567089438438416\n",
      "epoch: 2, step: 300, loss: 0.6693612337112427\n",
      "epoch: 2, step: 400, loss: 0.4612315893173218\n",
      "epoch: 3, step: 0, loss: 0.5113295912742615\n",
      "epoch: 3, step: 100, loss: 0.4467904269695282\n",
      "epoch: 3, step: 200, loss: 0.36235031485557556\n",
      "epoch: 3, step: 300, loss: 0.39515265822410583\n",
      "epoch: 3, step: 400, loss: 0.4950714111328125\n",
      "epoch: 4, step: 0, loss: 0.5948828458786011\n",
      "epoch: 4, step: 100, loss: 0.4625302851200104\n",
      "epoch: 4, step: 200, loss: 0.43828654289245605\n",
      "epoch: 4, step: 300, loss: 0.3199017643928528\n",
      "epoch: 4, step: 400, loss: 0.4320521950721741\n",
      "epoch: 5, step: 0, loss: 0.3087632358074188\n",
      "epoch: 5, step: 100, loss: 0.3586760461330414\n",
      "epoch: 5, step: 200, loss: 0.29169762134552\n",
      "epoch: 5, step: 300, loss: 0.2729909121990204\n",
      "epoch: 5, step: 400, loss: 0.21571558713912964\n",
      "epoch: 6, step: 0, loss: 0.36127954721450806\n",
      "epoch: 6, step: 100, loss: 0.30555927753448486\n",
      "epoch: 6, step: 200, loss: 0.2761423885822296\n",
      "epoch: 6, step: 300, loss: 0.34551775455474854\n",
      "epoch: 6, step: 400, loss: 0.3637615442276001\n",
      "epoch: 7, step: 0, loss: 0.2789040505886078\n",
      "epoch: 7, step: 100, loss: 0.24789585173130035\n",
      "epoch: 7, step: 200, loss: 0.24239587783813477\n",
      "epoch: 7, step: 300, loss: 0.31439080834388733\n",
      "epoch: 7, step: 400, loss: 0.2903306186199188\n",
      "epoch: 8, step: 0, loss: 0.2417832911014557\n",
      "epoch: 8, step: 100, loss: 0.3269033133983612\n",
      "epoch: 8, step: 200, loss: 0.2639763653278351\n",
      "epoch: 8, step: 300, loss: 0.18165098130702972\n",
      "epoch: 8, step: 400, loss: 0.2595103085041046\n",
      "epoch: 9, step: 0, loss: 0.19892902672290802\n",
      "epoch: 9, step: 100, loss: 0.23825833201408386\n",
      "epoch: 9, step: 200, loss: 0.19061443209648132\n",
      "epoch: 9, step: 300, loss: 0.1935572326183319\n",
      "epoch: 9, step: 400, loss: 0.19995355606079102\n"
     ]
    }
   ],
   "source": [
    "#обучение на тренировочной \n",
    "for epoch in range(n_epochs):\n",
    "    for i, batch in enumerate(dataloader_train):\n",
    "        optim.zero_grad()\n",
    "        predict = model(batch['data'])\n",
    "        loss = loss_func(predict, batch['target'])\n",
    "        loss.backward()\n",
    "        optim.step()\n",
    "        if i % 100 == 0:\n",
    "            print(f'epoch: {epoch}, step: {i}, loss: {loss.item()}')\n",
    "            \n",
    "    #save every epoch\n",
    "    torch.save(model.state_dict(), f'./chkpt_cv1_{epoch}.pth')"
   ]
  },
  {
   "cell_type": "code",
   "execution_count": 157,
   "id": "7ddecef3",
   "metadata": {},
   "outputs": [
    {
     "name": "stdout",
     "output_type": "stream",
     "text": [
      "test_loss_epoch_0 = 0.0018278538482263684\n",
      "test_loss_epoch_1 = 0.0019620927050709724\n",
      "test_loss_epoch_2 = 0.003239627694711089\n",
      "test_loss_epoch_3 = 0.0027268945705145597\n",
      "test_loss_epoch_4 = 0.0025776256807148457\n",
      "test_loss_epoch_5 = 0.002882803324609995\n",
      "test_loss_epoch_6 = 0.0031842163298279047\n",
      "test_loss_epoch_7 = 0.0026994331274181604\n",
      "test_loss_epoch_8 = 0.0018634024308994412\n",
      "test_loss_epoch_9 = 0.0018518964061513543\n"
     ]
    }
   ],
   "source": [
    "#на тесте\n",
    "for epoch in range(n_epochs):\n",
    "    for i, batch in enumerate(dataloader_test):\n",
    "        model.train(False)\n",
    "        f_loss = 0\n",
    "        predict = model(batch['data'])\n",
    "        loss = loss_func(predict, batch['target'])\n",
    "        f_loss +=loss\n",
    "    print(f'test_loss_epoch_{epoch} = {f_loss/i}')\n",
    "            \n",
    "    #save every epoch\n",
    "    torch.save(model.state_dict(), f'./chkpt_cv1_{epoch}.pth')"
   ]
  },
  {
   "cell_type": "markdown",
   "id": "061284de",
   "metadata": {},
   "source": [
    "https://h1ros.github.io/posts/train-the-image-classifier-using-pytorch/\n",
    "https://nestedsoftware.com/2019/08/19/pytorch-image-recognition-dense-network-3nbd.158001.html"
   ]
  },
  {
   "cell_type": "code",
   "execution_count": 158,
   "id": "e8624b15",
   "metadata": {},
   "outputs": [
    {
     "data": {
      "image/png": "[encoded data removed]",
      "text/plain": [
       "<Figure size 432x288 with 1 Axes>"
      ]
     },
     "metadata": {
      "needs_background": "light"
     },
     "output_type": "display_data"
    },
    {
     "name": "stdout",
     "output_type": "stream",
     "text": [
      "'predicted':2, 'target':2\n"
     ]
    },
    {
     "data": {
      "image/png": "[encoded data removed]",
      "text/plain": [
       "<Figure size 432x288 with 1 Axes>"
      ]
     },
     "metadata": {
      "needs_background": "light"
     },
     "output_type": "display_data"
    },
    {
     "name": "stdout",
     "output_type": "stream",
     "text": [
      "'predicted':0, 'target':0\n"
     ]
    },
    {
     "data": {
      "image/png": "[encoded data removed]",
      "text/plain": [
       "<Figure size 432x288 with 1 Axes>"
      ]
     },
     "metadata": {
      "needs_background": "light"
     },
     "output_type": "display_data"
    },
    {
     "name": "stdout",
     "output_type": "stream",
     "text": [
      "'predicted':1, 'target':1\n"
     ]
    },
    {
     "data": {
      "image/png": "[encoded data removed]",
      "text/plain": [
       "<Figure size 432x288 with 1 Axes>"
      ]
     },
     "metadata": {
      "needs_background": "light"
     },
     "output_type": "display_data"
    },
    {
     "name": "stdout",
     "output_type": "stream",
     "text": [
      "'predicted':9, 'target':9\n"
     ]
    },
    {
     "data": {
      "image/png": "[encoded data removed]",
      "text/plain": [
       "<Figure size 432x288 with 1 Axes>"
      ]
     },
     "metadata": {
      "needs_background": "light"
     },
     "output_type": "display_data"
    },
    {
     "name": "stdout",
     "output_type": "stream",
     "text": [
      "'predicted':9, 'target':9\n"
     ]
    },
    {
     "data": {
      "image/png": "[encoded data removed]",
      "text/plain": [
       "<Figure size 432x288 with 1 Axes>"
      ]
     },
     "metadata": {
      "needs_background": "light"
     },
     "output_type": "display_data"
    },
    {
     "name": "stdout",
     "output_type": "stream",
     "text": [
      "'predicted':6, 'target':6\n"
     ]
    },
    {
     "data": {
      "image/png": "[encoded data removed]",
      "text/plain": [
       "<Figure size 432x288 with 1 Axes>"
      ]
     },
     "metadata": {
      "needs_background": "light"
     },
     "output_type": "display_data"
    },
    {
     "name": "stdout",
     "output_type": "stream",
     "text": [
      "'predicted':0, 'target':0\n"
     ]
    },
    {
     "data": {
      "image/png": "[encoded data removed]",
      "text/plain": [
       "<Figure size 432x288 with 1 Axes>"
      ]
     },
     "metadata": {
      "needs_background": "light"
     },
     "output_type": "display_data"
    },
    {
     "name": "stdout",
     "output_type": "stream",
     "text": [
      "'predicted':5, 'target':5\n"
     ]
    },
    {
     "data": {
      "image/png": "[encoded data removed]",
      "text/plain": [
       "<Figure size 432x288 with 1 Axes>"
      ]
     },
     "metadata": {
      "needs_background": "light"
     },
     "output_type": "display_data"
    },
    {
     "name": "stdout",
     "output_type": "stream",
     "text": [
      "'predicted':7, 'target':7\n"
     ]
    },
    {
     "data": {
      "image/png": "[encoded data removed]",
      "text/plain": [
       "<Figure size 432x288 with 1 Axes>"
      ]
     },
     "metadata": {
      "needs_background": "light"
     },
     "output_type": "display_data"
    },
    {
     "name": "stdout",
     "output_type": "stream",
     "text": [
      "'predicted':4, 'target':4\n"
     ]
    }
   ],
   "source": [
    "#проверим модель и предскажим число\n",
    "#возьмем набор чисел из тестовой выборки \n",
    "for i in range(1,20,2):\n",
    "    plt.imshow(dataset_test.data[i].numpy(), cmap='binary')\n",
    "    #представим в виде обычного вектора numpy\n",
    "    dataset_test.data[i].numpy()\n",
    "    #растянем изображение в строчку и отобразим в тензор\n",
    "    d_1 = dataset_test.data[i].unsqueeze(0).view(1, -1)\n",
    "    #посмотрим на метку тестового изображения \n",
    "    MNIST_target = dataset_test.targets[i]\n",
    "    outputs = model(d_1.float())\n",
    "    predicted = torch.argmax(outputs).squeeze().detach()\n",
    "    plt.show()\n",
    "    print(f\"'predicted':{predicted}, 'target':{MNIST_target}\")"
   ]
  },
  {
   "cell_type": "markdown",
   "id": "3c4bf071",
   "metadata": {},
   "source": [
    "Видно, что сетка предсказала все значения "
   ]
  },
  {
   "cell_type": "markdown",
   "id": "a3e8197e",
   "metadata": {},
   "source": [
    "# Сверточная модель"
   ]
  },
  {
   "cell_type": "code",
   "execution_count": 197,
   "id": "56e33a26",
   "metadata": {},
   "outputs": [],
   "source": [
    "# hyperparams\n",
    "input_ch = 1\n",
    "hidden_ch = 128\n",
    "out_dim = 10\n",
    "device_id = -1\n",
    "device = 'cpu' if device_id == -1 else f'cuda:{device_id}'\n",
    "n_epochs = 3\n",
    "batch_size = 128"
   ]
  },
  {
   "cell_type": "markdown",
   "id": "80ad68b8",
   "metadata": {},
   "source": [
    "https://datahacker.rs/005-pytorch-convolutional-neural-network-on-mnist-in-pytorch/\n",
    "https://github.com/anantgupta129/Design-a-CNN-Step-By-Step-Using-MNiST-Pytorch\n",
    "https://colab.research.google.com/github/divya-r-kamat/PyTorch/blob/master/MNIST_CNN_(Fine_Tuning).ipynb\n",
    "https://pytorch.org/docs/1.9.1/generated/torch.nn.Conv2d.html"
   ]
  },
  {
   "cell_type": "code",
   "execution_count": 193,
   "id": "fca34948",
   "metadata": {},
   "outputs": [],
   "source": [
    "class ConvDO(nn.Module):\n",
    "    def __init__(self, input_ch, output_ch, kernel_size, stride, padding, \n",
    "                 dropout_p=0.1):\n",
    "        super().__init__()\n",
    "        self.conv = nn.Conv2d(\n",
    "            input_ch, \n",
    "            output_ch, \n",
    "            kernel_size=kernel_size,\n",
    "            stride=stride,\n",
    "            padding=padding, \n",
    "        )\n",
    "        # TODO добавить батч норм\n",
    "        self.do = nn.Dropout(dropout_p)\n",
    "        self.bn2d = nn.BatchNorm2d(output_ch)\n",
    "\n",
    "    def forward(self, x):\n",
    "        return self.do(self.bn2d(self.conv(x)))\n",
    "\n",
    "class ConvModel(nn.Module):\n",
    "    def __init__(self, input_ch, hidden_ch, output_dim, dropout_p=0.1):\n",
    "        super().__init__()\n",
    "        self.conv1 = ConvDO(input_ch, hidden_ch, 5, 2, 2) # уменьшим размер выходной фичматрицы в 2 раза\n",
    "        # TODO еще уменьшить размер фичматрицы\n",
    "        self.conv2 = ConvDO(hidden_ch, hidden_ch, 4, 1, 1)\n",
    "        self.conv3 = ConvDO(hidden_ch, hidden_ch, 3, 1, 1)\n",
    "        # TODO увеличить число выходных каналов\n",
    "        self.conv4 = ConvDO(hidden_ch, 10, 2, 1, 1)\n",
    "        self.linear = nn.Linear(\n",
    "            10 * 14 * 14, # TODO поправить при изменении числа каналов и размера фич матриц\n",
    "            output_dim,\n",
    "        )  \n",
    "        self.activ = nn.ReLU()    \n",
    "\n",
    "    def forward(self, x):\n",
    "        x = self.activ(self.conv1(x))\n",
    "        x = self.activ(self.conv2(x))\n",
    "        x = self.activ(self.conv3(x))\n",
    "        x = self.activ(self.conv4(x))\n",
    "        x = self.linear(x.view(x.size(0), -1))\n",
    "\n",
    "        return x"
   ]
  },
  {
   "cell_type": "code",
   "execution_count": 194,
   "id": "0aba6bfb",
   "metadata": {},
   "outputs": [],
   "source": [
    "trainloader = torch.utils.data.DataLoader(dataset_train, \n",
    "                                          batch_size=batch_size,\n",
    "                                          shuffle=True, \n",
    "                                          num_workers=2, \n",
    "                                          drop_last = True,)\n",
    "\n",
    "testloader = torch.utils.data.DataLoader(dataset_test, \n",
    "                                          batch_size=batch_size,\n",
    "                                          shuffle=True, \n",
    "                                          num_workers=2, \n",
    "                                          drop_last = True,)"
   ]
  },
  {
   "cell_type": "code",
   "execution_count": 195,
   "id": "e03821f5",
   "metadata": {},
   "outputs": [],
   "source": [
    "model_conv = ConvModel(input_ch, hidden_ch, out_dim).to(device)\n",
    "optim = torch.optim.Adam(model_conv.parameters())\n",
    "loss_func = nn.CrossEntropyLoss()"
   ]
  },
  {
   "cell_type": "code",
   "execution_count": 199,
   "id": "686a97cc",
   "metadata": {},
   "outputs": [
    {
     "name": "stdout",
     "output_type": "stream",
     "text": [
      "epoch: 0, step: 0, loss: 0.4978879392147064\n",
      "epoch: 0, step: 200, loss: 0.07146106660366058\n",
      "epoch: 0, step: 400, loss: 0.07395604252815247\n",
      "epoch: 1, step: 0, loss: 0.07702425122261047\n",
      "epoch: 1, step: 200, loss: 0.03676433861255646\n",
      "epoch: 1, step: 400, loss: 0.017362086102366447\n",
      "epoch: 2, step: 0, loss: 0.04337999224662781\n",
      "epoch: 2, step: 200, loss: 0.014042375609278679\n",
      "epoch: 2, step: 400, loss: 0.006918954662978649\n"
     ]
    }
   ],
   "source": [
    "for epoch in range(n_epochs):\n",
    "    for i, batch in enumerate(trainloader):\n",
    "        inputs, labels = batch\n",
    "        optim.zero_grad()\n",
    "\n",
    "        predict = model_conv(inputs.to(device))\n",
    "        loss = loss_func(predict, labels.to(device))\n",
    "        loss.backward()\n",
    "        optim.step()\n",
    "        if i % 200 == 0:\n",
    "            print(f'epoch: {epoch}, step: {i}, loss: {loss.item()}')\n",
    "    \n",
    "    \n",
    "    model_conv.train()\n",
    "    #save every epoch\n",
    "\n",
    "    torch.save(model_conv.state_dict(), f'./chkpt_cv1_conv_{epoch}.pth')\n"
   ]
  },
  {
   "cell_type": "code",
   "execution_count": 203,
   "id": "566b9aac",
   "metadata": {},
   "outputs": [
    {
     "name": "stdout",
     "output_type": "stream",
     "text": [
      "test_loss_epoch_0 = 0.0008559798006899655\n",
      "test_loss_epoch_1 = 3.025168552994728e-05\n",
      "test_loss_epoch_2 = 0.0009429075289517641\n"
     ]
    }
   ],
   "source": [
    "#на тесте\n",
    "for epoch in range(n_epochs):\n",
    "    for i, batch in enumerate(testloader):\n",
    "        inputs, labels = batch\n",
    "        model_conv.train(False)\n",
    "        f_loss = 0\n",
    "        predict = model_conv(inputs)\n",
    "        loss = loss_func(predict, labels)\n",
    "        f_loss +=loss\n",
    "    print(f'test_loss_epoch_{epoch} = {f_loss/i}')\n",
    "            \n",
    "    #save every epoch\n",
    "    torch.save(model.state_dict(), f'./chkpt_cv1_{epoch}.pth')"
   ]
  },
  {
   "cell_type": "code",
   "execution_count": 205,
   "id": "98483534",
   "metadata": {},
   "outputs": [
    {
     "data": {
      "image/png": "[encoded data removed]",
      "text/plain": [
       "<Figure size 432x288 with 1 Axes>"
      ]
     },
     "metadata": {
      "needs_background": "light"
     },
     "output_type": "display_data"
    },
    {
     "name": "stdout",
     "output_type": "stream",
     "text": [
      "'predicted':2, 'target':2\n"
     ]
    },
    {
     "data": {
      "image/png": "[encoded data removed]",
      "text/plain": [
       "<Figure size 432x288 with 1 Axes>"
      ]
     },
     "metadata": {
      "needs_background": "light"
     },
     "output_type": "display_data"
    },
    {
     "name": "stdout",
     "output_type": "stream",
     "text": [
      "'predicted':0, 'target':0\n"
     ]
    },
    {
     "data": {
      "image/png": "[encoded data removed]",
      "text/plain": [
       "<Figure size 432x288 with 1 Axes>"
      ]
     },
     "metadata": {
      "needs_background": "light"
     },
     "output_type": "display_data"
    },
    {
     "name": "stdout",
     "output_type": "stream",
     "text": [
      "'predicted':1, 'target':1\n"
     ]
    },
    {
     "data": {
      "image/png": "[encoded data removed]",
      "text/plain": [
       "<Figure size 432x288 with 1 Axes>"
      ]
     },
     "metadata": {
      "needs_background": "light"
     },
     "output_type": "display_data"
    },
    {
     "name": "stdout",
     "output_type": "stream",
     "text": [
      "'predicted':9, 'target':9\n"
     ]
    },
    {
     "data": {
      "image/png": "[encoded data removed]",
      "text/plain": [
       "<Figure size 432x288 with 1 Axes>"
      ]
     },
     "metadata": {
      "needs_background": "light"
     },
     "output_type": "display_data"
    },
    {
     "name": "stdout",
     "output_type": "stream",
     "text": [
      "'predicted':9, 'target':9\n"
     ]
    },
    {
     "data": {
      "image/png": "[encoded data removed]",
      "text/plain": [
       "<Figure size 432x288 with 1 Axes>"
      ]
     },
     "metadata": {
      "needs_background": "light"
     },
     "output_type": "display_data"
    },
    {
     "name": "stdout",
     "output_type": "stream",
     "text": [
      "'predicted':6, 'target':6\n"
     ]
    },
    {
     "data": {
      "image/png": "[encoded data removed]",
      "text/plain": [
       "<Figure size 432x288 with 1 Axes>"
      ]
     },
     "metadata": {
      "needs_background": "light"
     },
     "output_type": "display_data"
    },
    {
     "name": "stdout",
     "output_type": "stream",
     "text": [
      "'predicted':0, 'target':0\n"
     ]
    },
    {
     "data": {
      "image/png": "[encoded data removed]",
      "text/plain": [
       "<Figure size 432x288 with 1 Axes>"
      ]
     },
     "metadata": {
      "needs_background": "light"
     },
     "output_type": "display_data"
    },
    {
     "name": "stdout",
     "output_type": "stream",
     "text": [
      "'predicted':5, 'target':5\n"
     ]
    },
    {
     "data": {
      "image/png": "[encoded data removed]",
      "text/plain": [
       "<Figure size 432x288 with 1 Axes>"
      ]
     },
     "metadata": {
      "needs_background": "light"
     },
     "output_type": "display_data"
    },
    {
     "name": "stdout",
     "output_type": "stream",
     "text": [
      "'predicted':7, 'target':7\n"
     ]
    },
    {
     "data": {
      "image/png": "[encoded data removed]",
      "text/plain": [
       "<Figure size 432x288 with 1 Axes>"
      ]
     },
     "metadata": {
      "needs_background": "light"
     },
     "output_type": "display_data"
    },
    {
     "name": "stdout",
     "output_type": "stream",
     "text": [
      "'predicted':4, 'target':4\n"
     ]
    }
   ],
   "source": [
    "#проверим модель и предскажим число\n",
    "#возьмем набор чисел из тестовой выборки \n",
    "for i in range(1,20,2):\n",
    "    plt.imshow(dataset_test.data[i].numpy(), cmap='binary')\n",
    "    #представим в виде обычного вектора numpy\n",
    "    dataset_test.data[i].numpy()\n",
    "    #растянем изображение в строчку и отобразим в тензор\n",
    "    d_1 = dataset_test.data[i].unsqueeze(0).unsqueeze(0)\n",
    "    #посмотрим на метку тестового изображения \n",
    "    MNIST_target = dataset_test.targets[i]\n",
    "    outputs = model_conv(d_1.float())\n",
    "    predicted = torch.argmax(outputs).squeeze().detach()\n",
    "    plt.show()\n",
    "    print(f\"'predicted':{predicted}, 'target':{MNIST_target}\")"
   ]
  },
  {
   "cell_type": "markdown",
   "id": "a555cf32",
   "metadata": {},
   "source": [
    "Cетка предсказала все значения верно"
   ]
  }
 ],
 "metadata": {
  "kernelspec": {
   "display_name": "Python 3 (ipykernel)",
   "language": "python",
   "name": "python3"
  },
  "language_info": {
   "codemirror_mode": {
    "name": "ipython",
    "version": 3
   },
   "file_extension": ".py",
   "mimetype": "text/x-python",
   "name": "python",
   "nbconvert_exporter": "python",
   "pygments_lexer": "ipython3",
   "version": "3.9.12"
  }
 },
 "nbformat": 4,
 "nbformat_minor": 5
}
