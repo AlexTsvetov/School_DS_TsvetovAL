{
  "nbformat": 4,
  "nbformat_minor": 0,
  "metadata": {
    "colab": {
      "provenance": []
    },
    "kernelspec": {
      "name": "python3",
      "display_name": "Python 3"
    },
    "language_info": {
      "name": "python"
    },
    "accelerator": "GPU",
    "gpuClass": "standard"
  },
  "cells": [
    {
      "cell_type": "code",
      "execution_count": 1,
      "metadata": {
        "id": "in0PyicHhZDG"
      },
      "outputs": [],
      "source": [
        "import datetime\n",
        "import torch\n",
        "import torch.nn as nn\n",
        "from torch.utils.data import Dataset\n",
        "from torch.nn.utils.rnn import pad_sequence\n",
        "from torch.utils.data import DataLoader"
      ]
    },
    {
      "cell_type": "code",
      "source": [
        "from google.colab import drive\n",
        "drive.mount('/content/drive')\n"
      ],
      "metadata": {
        "id": "73ieMA485Tme",
        "colab": {
          "base_uri": "https://localhost:8080/"
        },
        "outputId": "0f5aef9a-7f4f-41ab-b5d3-fed8e7c57688"
      },
      "execution_count": 2,
      "outputs": [
        {
          "output_type": "stream",
          "name": "stdout",
          "text": [
            "Mounted at /content/drive\n"
          ]
        }
      ]
    },
    {
      "cell_type": "code",
      "source": [
        "data_dir = 'drive/My Drive/'\n",
        "train_lang = 'en'"
      ],
      "metadata": {
        "id": "Os4tVkvmkTIp"
      },
      "execution_count": 3,
      "outputs": []
    },
    {
      "cell_type": "code",
      "source": [
        "class DatasetSeq(Dataset):\n",
        "    def __init__(self, data_dir, train_lang='en'):\n",
        "\t#open file\n",
        "        with open(data_dir + train_lang + '.train', 'r') as f:\n",
        "            train = f.read().split('\\n\\n')\n",
        "\n",
        "        # delete extra tag markup\n",
        "        train = [x for x in train if not '_ ' in x]\n",
        "\t    #init vocabs of tokens for encoding {<str> token: <int> id}\n",
        "        self.target_vocab = {} # {p: 1, a: 2, r: 3, pu: 4}\n",
        "        self.word_vocab = {} # {cat: 1, sat: 2, on: 3, mat: 4, '.': 5}\n",
        "        self.char_vocab = {} # {c: 1, a: 2, t: 3, ' ': 4, s: 5}\n",
        "\t    \n",
        "        # Cat sat on mat. -> [1, 2, 3, 4, 5]\n",
        "        # p    a  r  p pu -> [1, 2, 3, 1, 4]\n",
        "        # chars  -> [1, 2, 3, 4, 5, 2, 3, 4]\n",
        "\n",
        "\t    #init encoded sequences lists (processed data)\n",
        "        self.encoded_sequences = []\n",
        "        self.encoded_targets = []\n",
        "        self.encoded_char_sequences = []\n",
        "        # n=1 because first value is padding\n",
        "        n_word = 1\n",
        "        n_target = 1\n",
        "        n_char = 1\n",
        "        for line in train:\n",
        "            sequence = []\n",
        "            target = []\n",
        "            chars = []\n",
        "            for item in line.split('\\n'):\n",
        "                if item != '':\n",
        "                    word, label = item.split(' ')\n",
        "\n",
        "                    if self.word_vocab.get(word) is None:\n",
        "                        self.word_vocab[word] = n_word\n",
        "                        n_word += 1\n",
        "                    if self.target_vocab.get(label) is None:\n",
        "                        self.target_vocab[label] = n_target\n",
        "                        n_target += 1\n",
        "                    for char in word:\n",
        "                        if self.char_vocab.get(char) is None:\n",
        "                            self.char_vocab[char] = n_char\n",
        "                            n_char += 1\n",
        "                    sequence.append(self.word_vocab[word])\n",
        "                    target.append(self.target_vocab[label])\n",
        "                    chars.append([self.char_vocab[char] for char in word])\n",
        "            self.encoded_sequences.append(sequence)\n",
        "            self.encoded_targets.append(target)\n",
        "            self.encoded_char_sequences.append(chars)\n",
        "\n",
        "    def __len__(self):\n",
        "        return len(self.encoded_sequences)\n",
        "\n",
        "    def __getitem__(self, index):\n",
        "        return {\n",
        "            'data': self.encoded_sequences[index], # [1, 2, 3, 4, 6] len=5\n",
        "            'char': self.encoded_char_sequences[index],# [[1,2,3], [4,5], [1,2], [2,6,5,4], []] len=5\n",
        "            'target': self.encoded_targets[index], #  (1)\n",
        "        }"
      ],
      "metadata": {
        "id": "SI8UCZuy7hTK"
      },
      "execution_count": 4,
      "outputs": []
    },
    {
      "cell_type": "code",
      "source": [
        "dataset = DatasetSeq(data_dir)"
      ],
      "metadata": {
        "id": "dhJuBtoz7f43"
      },
      "execution_count": 5,
      "outputs": []
    },
    {
      "cell_type": "code",
      "source": [
        "def collate_fn(batch):\n",
        "    data = []\n",
        "    target = []\n",
        "    for item in batch:\n",
        "        data.append(torch.as_tensor(item['data']))\n",
        "        target.append(torch.as_tensor(item['target']))\n",
        "    # pad different length sequences\n",
        "    data = pad_sequence(data, batch_first=True, padding_value=0)\n",
        "    target = pad_sequence(target, batch_first=True, padding_value=0)\n",
        "\n",
        "    return {'data': data, 'target': target}"
      ],
      "metadata": {
        "id": "uPJauY4hAqJ6"
      },
      "execution_count": 37,
      "outputs": []
    },
    {
      "cell_type": "code",
      "source": [
        "class RNNPredictor(nn.Module):\n",
        "    def __init__(self, vocab_size, emb_dim, hidden_dim, n_classes, class_model):\n",
        "        super().__init__()\n",
        "        self.word_emb = nn.Embedding(vocab_size, emb_dim)\n",
        "        self.word_emb = nn.Embedding(vocab_size, emb_dim)\n",
        "        self.class_model = class_model(emb_dim, hidden_dim, batch_first=True)\n",
        "        \n",
        "        self.clf = nn.Linear(hidden_dim, n_classes)\n",
        "        self.do = nn.Dropout(0.1)\n",
        "        self.hidden_dim = hidden_dim\n",
        "\n",
        "    def forward(self, x):\n",
        "        emb = self.word_emb(x) # B x T x Ebm_dim\n",
        "        hidden, _ = self.class_model(emb) # B x T x Hid, B x 1 x Hid\n",
        "        pred = self.clf(self.do(hidden)) # B x T x N_classes\n",
        "        return pred"
      ],
      "metadata": {
        "id": "KTz2txO4LTZ3"
      },
      "execution_count": 38,
      "outputs": []
    },
    {
      "cell_type": "code",
      "source": [
        "#hyper params\n",
        "vocab_size = len(dataset.word_vocab) + 1\n",
        "n_classes = len(dataset.target_vocab) + 1\n",
        "n_chars = len(dataset.char_vocab) + 1\n",
        "\n",
        "#TODO try to use other model parameters\n",
        "\n",
        "emb_dim = 256\n",
        "hidden = 128\n",
        "n_epochs = 8\n",
        "cuda_device = 0\n",
        "batch_size = 128\n",
        "device = f'cuda:{cuda_device}' if cuda_device != -1 else 'cpu'"
      ],
      "metadata": {
        "id": "K_PACmDaH8Z7"
      },
      "execution_count": 39,
      "outputs": []
    },
    {
      "cell_type": "code",
      "source": [
        "#nn.RNN\n",
        "model = RNNPredictor(vocab_size, emb_dim, hidden, n_classes, nn.RNN).to(device)\n",
        "model.train()\n",
        "optim = torch.optim.Adam(model.parameters(), lr=0.001)\n",
        "loss_func = nn.CrossEntropyLoss()"
      ],
      "metadata": {
        "id": "a4gX5zVDIZdu"
      },
      "execution_count": 40,
      "outputs": []
    },
    {
      "cell_type": "code",
      "source": [
        "%%time\n",
        "model_rnn_time = datetime.datetime.now()\n",
        "for epoch in range(n_epochs):\n",
        "    dataloader = DataLoader(dataset, \n",
        "                            batch_size, \n",
        "                            shuffle=True, \n",
        "                            collate_fn=collate_fn,\n",
        "                            drop_last = True,\n",
        "                            )\n",
        "    for i, batch in enumerate(dataloader):\n",
        "        optim.zero_grad()\n",
        "\n",
        "        predict = model(batch['data'].to(device))\n",
        "        loss = loss_func(predict.view(-1, n_classes),\n",
        "                         batch['target'].to(device).view(-1), \n",
        "                         )\n",
        "        loss.backward()\n",
        "        optim.step()\n",
        "        if i % 100 == 0:\n",
        "            print(f'epoch: {epoch}, step: {i}, loss: {loss.item()}')\n",
        "   \n",
        "    torch.save(model.state_dict(), f'./rnn_chkpt_{epoch}.pth')\n",
        "print(datetime.datetime.now()-model_rnn_time)"
      ],
      "metadata": {
        "colab": {
          "base_uri": "https://localhost:8080/"
        },
        "id": "r2f3MATJ8GKb",
        "outputId": "dabbe075-241f-4102-9ee5-6e03fb82172e"
      },
      "execution_count": 41,
      "outputs": [
        {
          "output_type": "stream",
          "name": "stdout",
          "text": [
            "epoch: 0, step: 0, loss: 3.22158145904541\n",
            "epoch: 0, step: 100, loss: 0.39390280842781067\n",
            "epoch: 1, step: 0, loss: 0.1897428184747696\n",
            "epoch: 1, step: 100, loss: 0.23065243661403656\n",
            "epoch: 2, step: 0, loss: 0.14553719758987427\n",
            "epoch: 2, step: 100, loss: 0.16135287284851074\n",
            "epoch: 3, step: 0, loss: 0.11805910617113113\n",
            "epoch: 3, step: 100, loss: 0.1121533215045929\n",
            "epoch: 4, step: 0, loss: 0.06896404922008514\n",
            "epoch: 4, step: 100, loss: 0.0650561973452568\n",
            "epoch: 5, step: 0, loss: 0.05571252107620239\n",
            "epoch: 5, step: 100, loss: 0.07802284508943558\n",
            "epoch: 6, step: 0, loss: 0.08685595542192459\n",
            "epoch: 6, step: 100, loss: 0.06544125825166702\n",
            "epoch: 7, step: 0, loss: 0.07677440345287323\n",
            "epoch: 7, step: 100, loss: 0.055281490087509155\n",
            "0:00:09.200360\n",
            "CPU times: user 8.61 s, sys: 413 ms, total: 9.02 s\n",
            "Wall time: 9.2 s\n"
          ]
        }
      ]
    },
    {
      "cell_type": "code",
      "source": [
        "#example\n",
        "phrase = 'He ran quickly after the red bus and caught it'\n",
        "words = phrase.split(' ')\n",
        "tokens = [dataset.word_vocab[w] for w in words]\n",
        "\n",
        "start = datetime.datetime.now()\n",
        "with torch.no_grad():\n",
        "    model.eval()\n",
        "    predict = model(torch.tensor(tokens).unsqueeze(0).to(device)) # 1 x T x N_classes\n",
        "    labels = torch.argmax(predict, dim=-1).squeeze().cpu().detach().tolist()\n",
        "    end = datetime.datetime.now() - start\n",
        "\n",
        "target_labels = list(dataset.target_vocab.keys())\n",
        "print([target_labels[l-1] for l in labels])\n",
        "print(end)"
      ],
      "metadata": {
        "id": "9CljFAzIMMEW",
        "colab": {
          "base_uri": "https://localhost:8080/"
        },
        "outputId": "aedf850a-9a05-452b-87e7-a02eac0f95ed"
      },
      "execution_count": 42,
      "outputs": [
        {
          "output_type": "stream",
          "name": "stdout",
          "text": [
            "['PRON', 'VERB', 'ADV', 'ADP', 'DET', 'ADJ', 'NOUN', 'CCONJ', 'VERB', 'PRON']\n",
            "0:00:00.000992\n"
          ]
        }
      ]
    },
    {
      "cell_type": "code",
      "source": [
        "#nn.GRU\n",
        "model = RNNPredictor(vocab_size, emb_dim, hidden, n_classes, nn.GRU).to(device)\n",
        "model.train()\n",
        "optim = torch.optim.Adam(model.parameters(), lr=0.001)\n",
        "loss_func = nn.CrossEntropyLoss()"
      ],
      "metadata": {
        "id": "soes4kIU8FDq"
      },
      "execution_count": 43,
      "outputs": []
    },
    {
      "cell_type": "code",
      "source": [
        "%%time\n",
        "model_gru_time = datetime.datetime.now()\n",
        "for epoch in range(n_epochs):\n",
        "    dataloader = DataLoader(dataset, \n",
        "                            batch_size, \n",
        "                            shuffle=True, \n",
        "                            collate_fn=collate_fn,\n",
        "                            drop_last = True,\n",
        "                            )\n",
        "    for i, batch in enumerate(dataloader):\n",
        "        optim.zero_grad()\n",
        "\n",
        "        predict = model(batch['data'].to(device))\n",
        "        loss = loss_func(predict.view(-1, n_classes),\n",
        "                         batch['target'].to(device).view(-1), \n",
        "                         )\n",
        "        loss.backward()\n",
        "        optim.step()\n",
        "        if i % 100 == 0:\n",
        "            print(f'epoch: {epoch}, step: {i}, loss: {loss.item()}')\n",
        "   \n",
        "    torch.save(model.state_dict(), f'./rnn_chkpt_{epoch}.pth')\n",
        "print(datetime.datetime.now()-model_gru_time)"
      ],
      "metadata": {
        "id": "9PbgCjN48FRe",
        "outputId": "0efa9ebb-ee83-4235-ed1d-65fd4e06407b",
        "colab": {
          "base_uri": "https://localhost:8080/"
        }
      },
      "execution_count": 44,
      "outputs": [
        {
          "output_type": "stream",
          "name": "stdout",
          "text": [
            "epoch: 0, step: 0, loss: 3.357534646987915\n",
            "epoch: 0, step: 100, loss: 0.3646502196788788\n",
            "epoch: 1, step: 0, loss: 0.22849565744400024\n",
            "epoch: 1, step: 100, loss: 0.14016509056091309\n",
            "epoch: 2, step: 0, loss: 0.16559894382953644\n",
            "epoch: 2, step: 100, loss: 0.11204125732183456\n",
            "epoch: 3, step: 0, loss: 0.08227438479661942\n",
            "epoch: 3, step: 100, loss: 0.10856962203979492\n",
            "epoch: 4, step: 0, loss: 0.09864313900470734\n",
            "epoch: 4, step: 100, loss: 0.08829253166913986\n",
            "epoch: 5, step: 0, loss: 0.0862148255109787\n",
            "epoch: 5, step: 100, loss: 0.05872223898768425\n",
            "epoch: 6, step: 0, loss: 0.07429233938455582\n",
            "epoch: 6, step: 100, loss: 0.05343397334218025\n",
            "epoch: 7, step: 0, loss: 0.07046549767255783\n",
            "epoch: 7, step: 100, loss: 0.07354164123535156\n",
            "0:00:11.501236\n",
            "CPU times: user 10.9 s, sys: 390 ms, total: 11.3 s\n",
            "Wall time: 11.5 s\n"
          ]
        }
      ]
    },
    {
      "cell_type": "code",
      "source": [
        "#example\n",
        "phrase = 'He ran quickly after the red bus and caught it'\n",
        "words = phrase.split(' ')\n",
        "tokens = [dataset.word_vocab[w] for w in words]\n",
        "\n",
        "start = datetime.datetime.now()\n",
        "with torch.no_grad():\n",
        "    model.eval()\n",
        "    predict = model(torch.tensor(tokens).unsqueeze(0).to(device)) # 1 x T x N_classes\n",
        "    labels = torch.argmax(predict, dim=-1).squeeze().cpu().detach().tolist()\n",
        "    end = datetime.datetime.now() - start\n",
        "\n",
        "target_labels = list(dataset.target_vocab.keys())\n",
        "print([target_labels[l-1] for l in labels])\n",
        "print(end)"
      ],
      "metadata": {
        "id": "74gggSX58Fe9",
        "outputId": "6df4e10a-811c-4602-cf24-7aa874286a6e",
        "colab": {
          "base_uri": "https://localhost:8080/"
        }
      },
      "execution_count": 45,
      "outputs": [
        {
          "output_type": "stream",
          "name": "stdout",
          "text": [
            "['PRON', 'VERB', 'ADV', 'ADP', 'DET', 'ADJ', 'NOUN', 'CCONJ', 'VERB', 'PRON']\n",
            "0:00:00.000983\n"
          ]
        }
      ]
    },
    {
      "cell_type": "code",
      "source": [
        "#nn.LSTM\n",
        "model = RNNPredictor(vocab_size, emb_dim, hidden, n_classes, nn.LSTM).to(device)\n",
        "model.train()\n",
        "optim = torch.optim.Adam(model.parameters(), lr=0.001)\n",
        "loss_func = nn.CrossEntropyLoss()"
      ],
      "metadata": {
        "id": "Zw-FY-vCRxLE"
      },
      "execution_count": 46,
      "outputs": []
    },
    {
      "cell_type": "code",
      "source": [
        "%%time\n",
        "model_lstm_time = datetime.datetime.now()\n",
        "for epoch in range(n_epochs):\n",
        "    dataloader = DataLoader(dataset, \n",
        "                            batch_size, \n",
        "                            shuffle=True, \n",
        "                            collate_fn=collate_fn,\n",
        "                            drop_last = True,\n",
        "                            )\n",
        "    for i, batch in enumerate(dataloader):\n",
        "        optim.zero_grad()\n",
        "\n",
        "        predict = model(batch['data'].to(device))\n",
        "        loss = loss_func(predict.view(-1, n_classes),\n",
        "                         batch['target'].to(device).view(-1), \n",
        "                         )\n",
        "        loss.backward()\n",
        "        optim.step()\n",
        "        if i % 100 == 0:\n",
        "            print(f'epoch: {epoch}, step: {i}, loss: {loss.item()}')\n",
        "   \n",
        "    torch.save(model.state_dict(), f'./rnn_chkpt_{epoch}.pth')\n",
        "print(datetime.datetime.now()-model_lstm_time)"
      ],
      "metadata": {
        "id": "3ejhPeBRRxNw",
        "outputId": "a5603aa3-d54e-404f-a525-f955cba8a586",
        "colab": {
          "base_uri": "https://localhost:8080/"
        }
      },
      "execution_count": 47,
      "outputs": [
        {
          "output_type": "stream",
          "name": "stdout",
          "text": [
            "epoch: 0, step: 0, loss: 2.725430727005005\n",
            "epoch: 0, step: 100, loss: 0.5440400838851929\n",
            "epoch: 1, step: 0, loss: 0.19133931398391724\n",
            "epoch: 1, step: 100, loss: 0.16222286224365234\n",
            "epoch: 2, step: 0, loss: 0.1892334669828415\n",
            "epoch: 2, step: 100, loss: 0.08681514859199524\n",
            "epoch: 3, step: 0, loss: 0.11258475482463837\n",
            "epoch: 3, step: 100, loss: 0.09187579900026321\n",
            "epoch: 4, step: 0, loss: 0.0657251700758934\n",
            "epoch: 4, step: 100, loss: 0.07162638008594513\n",
            "epoch: 5, step: 0, loss: 0.09976565092802048\n",
            "epoch: 5, step: 100, loss: 0.07832629978656769\n",
            "epoch: 6, step: 0, loss: 0.07866831868886948\n",
            "epoch: 6, step: 100, loss: 0.050223883241415024\n",
            "epoch: 7, step: 0, loss: 0.05137931555509567\n",
            "epoch: 7, step: 100, loss: 0.05563878268003464\n",
            "0:00:13.518751\n",
            "CPU times: user 12.9 s, sys: 386 ms, total: 13.3 s\n",
            "Wall time: 13.5 s\n"
          ]
        }
      ]
    },
    {
      "cell_type": "code",
      "source": [
        "#example\n",
        "phrase = 'He ran quickly after the red bus and caught it'\n",
        "words = phrase.split(' ')\n",
        "tokens = [dataset.word_vocab[w] for w in words]\n",
        "\n",
        "start = datetime.datetime.now()\n",
        "with torch.no_grad():\n",
        "    model.eval()\n",
        "    predict = model(torch.tensor(tokens).unsqueeze(0).to(device)) # 1 x T x N_classes\n",
        "    labels = torch.argmax(predict, dim=-1).squeeze().cpu().detach().tolist()\n",
        "    end = datetime.datetime.now() - start\n",
        "\n",
        "target_labels = list(dataset.target_vocab.keys())\n",
        "print([target_labels[l-1] for l in labels])\n",
        "print(end)"
      ],
      "metadata": {
        "id": "yoSMUAZCSS32",
        "outputId": "f8c081e8-1e12-4047-bf86-aef695816931",
        "colab": {
          "base_uri": "https://localhost:8080/"
        }
      },
      "execution_count": 48,
      "outputs": [
        {
          "output_type": "stream",
          "name": "stdout",
          "text": [
            "['PRON', 'VERB', 'ADV', 'SCONJ', 'DET', 'ADJ', 'NOUN', 'CCONJ', 'VERB', 'PRON']\n",
            "0:00:00.001727\n"
          ]
        }
      ]
    },
    {
      "cell_type": "code",
      "source": [
        "#2 часть"
      ],
      "metadata": {
        "id": "sGHQgP1YSS6L"
      },
      "execution_count": 49,
      "outputs": []
    },
    {
      "cell_type": "code",
      "source": [
        "def collate_fn(input_data):\n",
        "    data = []\n",
        "    chars = []\n",
        "    targets = []\n",
        "    max_len = 0\n",
        "    for item in input_data:\n",
        "        if len(item['data']) > max_len:\n",
        "            max_len = len(item['data'])\n",
        "        data.append(torch.as_tensor(item['data']))\n",
        "        chars.append(item['char'])\n",
        "        targets.append(torch.as_tensor(item['target']))\n",
        "    chars_seq = [[torch.as_tensor([0]) for _ in range(len(input_data))] for _ in range(max_len)]\n",
        "    for j in range(len(input_data)):\n",
        "        for i in range(max_len):\n",
        "            if len(chars[j]) > i:\n",
        "                chars_seq[i][j] = torch.as_tensor(chars[j][i])\n",
        "    for j in range(max_len):\n",
        "        chars_seq[j] = pad_sequence(chars_seq[j], batch_first=True, padding_value=0)\n",
        "    data = pad_sequence(data, batch_first=True, padding_value=0)\n",
        "    targets = pad_sequence(targets, batch_first=True, padding_value=0)\n",
        "    return {'data': data, 'chars': chars_seq, 'target': targets}"
      ],
      "metadata": {
        "id": "J530pTTuSS9M"
      },
      "execution_count": 6,
      "outputs": []
    },
    {
      "cell_type": "code",
      "source": [
        "class CharRNN(nn.Module):\n",
        "    def __init__(self, vocab_size, emb_dim, hidden_dim):\n",
        "        super().__init__()\n",
        "        self.char_emb = nn.Embedding(vocab_size, emb_dim)\n",
        "        self.rnn = nn.GRU(emb_dim, hidden_dim, batch_first=True)\n",
        "\n",
        "    def forward(self, x):\n",
        "        emb = self.char_emb(x) # B x T x Emb_dim\n",
        "        _, out = self.rnn(emb)\n",
        "        # _: B x T x Hidden \n",
        "        # out: 1 x B x Hidden\n",
        "\n",
        "        return out.transpose(0, 1) # B x 1 x Hidden"
      ],
      "metadata": {
        "id": "cET4bAGxTKiz"
      },
      "execution_count": 7,
      "outputs": []
    },
    {
      "cell_type": "code",
      "source": [
        "#hyper params\n",
        "vocab_size = len(dataset.word_vocab) + 1\n",
        "n_classes = len(dataset.target_vocab) + 1\n",
        "n_chars = len(dataset.char_vocab) + 1\n",
        "\n",
        "#TODO try to use other model parameters\n",
        "emb_dim = 256\n",
        "hidden = 128\n",
        "char_hid = 128\n",
        "char_emb = 64\n",
        "n_epochs = 8\n",
        "cuda_device = 0\n",
        "batch_size = 128\n",
        "device = f'cuda:{cuda_device}' if cuda_device != -1 else 'cpu'"
      ],
      "metadata": {
        "id": "0PzGD9OUUwus"
      },
      "execution_count": 8,
      "outputs": []
    },
    {
      "cell_type": "code",
      "source": [
        "class RNNPredictor(nn.Module):\n",
        "    def __init__(self, vocab_size, emb_dim, hidden_dim, n_classes,\n",
        "                 char_vocab, char_emb, char_hidden, class_model):\n",
        "        super().__init__()\n",
        "        #TODO try to use other RNN archicetures, f.e. RNN and LSTM\n",
        "        self.word_emb = nn.Embedding(vocab_size, emb_dim)\n",
        "        self.word_emb = nn.Embedding(vocab_size, emb_dim)\n",
        "        # batch_first = False: T x B x Vec\n",
        "        # batch_first = True: B x T x Vec\n",
        "        self.class_model = class_model(emb_dim + char_hidden, hidden_dim, batch_first=True) \n",
        "        self.clf = nn.Linear(hidden_dim, n_classes)\n",
        "        self.do = nn.Dropout(0.1)\n",
        "        self.hidden_dim = hidden_dim\n",
        "        self.char_rnn = CharRNN(char_vocab, char_emb, char_hidden)\n",
        "\n",
        "    def forward(self, x, chars):\n",
        "        emb = self.word_emb(x)\n",
        "        char_features = [self.char_rnn(c.to(x.device)) for c in chars]\n",
        "        char_features = torch.cat(char_features, dim=1) # конкатенация по времени B x T x Char_hid\n",
        "        emb = torch.cat((emb, char_features), dim=-1) # конкатенация векторов\n",
        "        hidden, _ = self.class_model(emb)\n",
        "        pred = self.clf(self.do(hidden))\n",
        "\n",
        "        return pred"
      ],
      "metadata": {
        "id": "rM2kh1nNTKlT"
      },
      "execution_count": 9,
      "outputs": []
    },
    {
      "cell_type": "code",
      "source": [
        "#nn.GRU\n",
        "model = RNNPredictor(vocab_size, emb_dim, hidden, n_classes, n_chars, char_emb, char_hid, nn.GRU).to(device)\n",
        "model.train()\n",
        "optim = torch.optim.Adam(model.parameters(), lr=0.001)\n",
        "loss_func = nn.CrossEntropyLoss()"
      ],
      "metadata": {
        "id": "zx8fJ19HTKnq"
      },
      "execution_count": 54,
      "outputs": []
    },
    {
      "cell_type": "code",
      "source": [
        "%%time\n",
        "model_GRU_time = datetime.datetime.now()\n",
        "for epoch in range(n_epochs):\n",
        "    dataloader = DataLoader(dataset, \n",
        "                            batch_size, \n",
        "                            shuffle=True, \n",
        "                            collate_fn=collate_fn,\n",
        "                            drop_last = True,\n",
        "                            )\n",
        "    for i, batch in enumerate(dataloader):\n",
        "        optim.zero_grad()\n",
        "\n",
        "        predict = model(batch['data'].to(device), batch['chars'])\n",
        "        loss = loss_func(predict.view(-1, n_classes),\n",
        "                         batch['target'].to(device).view(-1), \n",
        "                         )\n",
        "        loss.backward()\n",
        "        optim.step()\n",
        "        if i % 100 == 0:\n",
        "            print(f'epoch: {epoch}, step: {i}, loss: {loss.item()}')\n",
        "   \n",
        "    torch.save(model.state_dict(), f'./rnn_chkpt_{epoch}.pth')\n",
        "print(datetime.datetime.now()-model_GRU_time)"
      ],
      "metadata": {
        "colab": {
          "base_uri": "https://localhost:8080/"
        },
        "id": "Dz7yR7KdTKqM",
        "outputId": "74be3fb4-3938-48b1-e2fe-741cac949c03"
      },
      "execution_count": 55,
      "outputs": [
        {
          "output_type": "stream",
          "name": "stdout",
          "text": [
            "epoch: 0, step: 0, loss: 2.51133394241333\n",
            "epoch: 0, step: 100, loss: 0.23598967492580414\n",
            "epoch: 1, step: 0, loss: 0.20292165875434875\n",
            "epoch: 1, step: 100, loss: 0.10102644562721252\n",
            "epoch: 2, step: 0, loss: 0.09344164282083511\n",
            "epoch: 2, step: 100, loss: 0.06658626347780228\n",
            "epoch: 3, step: 0, loss: 0.0903792530298233\n",
            "epoch: 3, step: 100, loss: 0.06118911877274513\n",
            "epoch: 4, step: 0, loss: 0.06782786548137665\n",
            "epoch: 4, step: 100, loss: 0.06826453655958176\n",
            "epoch: 5, step: 0, loss: 0.06583750247955322\n",
            "epoch: 5, step: 100, loss: 0.04947122558951378\n",
            "epoch: 6, step: 0, loss: 0.05924211069941521\n",
            "epoch: 6, step: 100, loss: 0.05668460205197334\n",
            "epoch: 7, step: 0, loss: 0.04545280337333679\n",
            "epoch: 7, step: 100, loss: 0.056430328637361526\n",
            "0:03:37.449731\n",
            "CPU times: user 3min 36s, sys: 3.77 s, total: 3min 39s\n",
            "Wall time: 3min 37s\n"
          ]
        }
      ]
    },
    {
      "cell_type": "code",
      "source": [
        "#example\n",
        "#TODO modify inference for model with char input\n",
        "phrase = 'He ran quickly after the red bus and caught it'\n",
        "words = phrase.split(' ')\n",
        "tokens = [dataset.word_vocab[w] for w in words]\n",
        "chars = [torch.tensor([dataset.char_vocab[c] for c in w]).unsqueeze(0).to(device) for w in words]\n",
        "\n",
        "start = datetime.datetime.now()\n",
        "with torch.no_grad():\n",
        "    model.eval()\n",
        "    predict = model(torch.tensor(tokens).unsqueeze(0).to(device), chars) # 1 x T x N_classes\n",
        "    labels = torch.argmax(predict, dim=-1).squeeze().cpu().detach().tolist()\n",
        "    end = datetime.datetime.now() - start\n",
        "\n",
        "target_labels = list(dataset.target_vocab.keys())\n",
        "print([target_labels[l-1] for l in labels])\n",
        "print(end)"
      ],
      "metadata": {
        "colab": {
          "base_uri": "https://localhost:8080/"
        },
        "id": "WYiA_FSGW4kA",
        "outputId": "c519614b-14e9-4839-94aa-47a8b3a76095"
      },
      "execution_count": 56,
      "outputs": [
        {
          "output_type": "stream",
          "name": "stdout",
          "text": [
            "['PRON', 'VERB', 'ADV', 'SCONJ', 'DET', 'ADJ', 'NOUN', 'CCONJ', 'VERB', 'PRON']\n",
            "0:00:00.003065\n"
          ]
        }
      ]
    },
    {
      "cell_type": "code",
      "source": [
        "#nn.RNN\n",
        "model = RNNPredictor(vocab_size, emb_dim, hidden, n_classes, n_chars, char_emb, char_hid, nn.RNN).to(device)\n",
        "model.train()\n",
        "optim = torch.optim.Adam(model.parameters(), lr=0.001)\n",
        "loss_func = nn.CrossEntropyLoss()"
      ],
      "metadata": {
        "id": "tqW7Nm_9Y-Wh"
      },
      "execution_count": 10,
      "outputs": []
    },
    {
      "cell_type": "code",
      "source": [
        "%%time\n",
        "model_RNN_time = datetime.datetime.now()\n",
        "for epoch in range(n_epochs):\n",
        "    dataloader = DataLoader(dataset, \n",
        "                            batch_size, \n",
        "                            shuffle=True, \n",
        "                            collate_fn=collate_fn,\n",
        "                            drop_last = True,\n",
        "                            )\n",
        "    for i, batch in enumerate(dataloader):\n",
        "        optim.zero_grad()\n",
        "\n",
        "        predict = model(batch['data'].to(device), batch['chars'])\n",
        "        loss = loss_func(predict.view(-1, n_classes),\n",
        "                         batch['target'].to(device).view(-1), \n",
        "                         )\n",
        "        loss.backward()\n",
        "        optim.step()\n",
        "        if i % 100 == 0:\n",
        "            print(f'epoch: {epoch}, step: {i}, loss: {loss.item()}')\n",
        "   \n",
        "    torch.save(model.state_dict(), f'./rnn_chkpt_{epoch}.pth')\n",
        "print(datetime.datetime.now()-model_RNN_time)"
      ],
      "metadata": {
        "colab": {
          "base_uri": "https://localhost:8080/"
        },
        "id": "ESxn1iwOW4mY",
        "outputId": "e0f74f10-bf13-4a1a-b55e-e19479211e37"
      },
      "execution_count": 11,
      "outputs": [
        {
          "output_type": "stream",
          "name": "stdout",
          "text": [
            "epoch: 0, step: 0, loss: 3.0529861450195312\n",
            "epoch: 0, step: 100, loss: 0.21675074100494385\n",
            "epoch: 1, step: 0, loss: 0.21850775182247162\n",
            "epoch: 1, step: 100, loss: 0.17626258730888367\n",
            "epoch: 2, step: 0, loss: 0.11362176388502121\n",
            "epoch: 2, step: 100, loss: 0.09027150273323059\n",
            "epoch: 3, step: 0, loss: 0.09947803616523743\n",
            "epoch: 3, step: 100, loss: 0.07473014295101166\n",
            "epoch: 4, step: 0, loss: 0.06810516864061356\n",
            "epoch: 4, step: 100, loss: 0.046909499913454056\n",
            "epoch: 5, step: 0, loss: 0.04895896464586258\n",
            "epoch: 5, step: 100, loss: 0.045384228229522705\n",
            "epoch: 6, step: 0, loss: 0.04080502316355705\n",
            "epoch: 6, step: 100, loss: 0.051320333033800125\n",
            "epoch: 7, step: 0, loss: 0.05082635208964348\n",
            "epoch: 7, step: 100, loss: 0.05180642753839493\n",
            "0:03:50.596601\n",
            "CPU times: user 3min 44s, sys: 4.5 s, total: 3min 49s\n",
            "Wall time: 3min 50s\n"
          ]
        }
      ]
    },
    {
      "cell_type": "code",
      "source": [
        "#example\n",
        "#TODO modify inference for model with char input\n",
        "phrase = 'He ran quickly after the red bus and caught it'\n",
        "words = phrase.split(' ')\n",
        "tokens = [dataset.word_vocab[w] for w in words]\n",
        "chars = [torch.tensor([dataset.char_vocab[c] for c in w]).unsqueeze(0).to(device) for w in words]\n",
        "\n",
        "start = datetime.datetime.now()\n",
        "with torch.no_grad():\n",
        "    model.eval()\n",
        "    predict = model(torch.tensor(tokens).unsqueeze(0).to(device), chars) # 1 x T x N_classes\n",
        "    labels = torch.argmax(predict, dim=-1).squeeze().cpu().detach().tolist()\n",
        "    end = datetime.datetime.now() - start\n",
        "\n",
        "target_labels = list(dataset.target_vocab.keys())\n",
        "print([target_labels[l-1] for l in labels])\n",
        "print(end)"
      ],
      "metadata": {
        "colab": {
          "base_uri": "https://localhost:8080/"
        },
        "id": "Ia-7nfLOW4o9",
        "outputId": "d2defe07-6982-4f2d-da04-e2a383822fe4"
      },
      "execution_count": 12,
      "outputs": [
        {
          "output_type": "stream",
          "name": "stdout",
          "text": [
            "['PRON', 'VERB', 'ADV', 'ADP', 'DET', 'ADJ', 'NOUN', 'CCONJ', 'VERB', 'PRON']\n",
            "0:00:00.007088\n"
          ]
        }
      ]
    },
    {
      "cell_type": "code",
      "source": [
        "#nn.LSTM\n",
        "model = RNNPredictor(vocab_size, emb_dim, hidden, n_classes, n_chars, char_emb, char_hid, nn.LSTM).to(device)\n",
        "model.train()\n",
        "optim = torch.optim.Adam(model.parameters(), lr=0.001)\n",
        "loss_func = nn.CrossEntropyLoss()"
      ],
      "metadata": {
        "id": "QMNeUIBRZdDn"
      },
      "execution_count": 13,
      "outputs": []
    },
    {
      "cell_type": "code",
      "source": [
        "%%time\n",
        "model_LSTM_time = datetime.datetime.now()\n",
        "for epoch in range(n_epochs):\n",
        "    dataloader = DataLoader(dataset, \n",
        "                            batch_size, \n",
        "                            shuffle=True, \n",
        "                            collate_fn=collate_fn,\n",
        "                            drop_last = True,\n",
        "                            )\n",
        "    for i, batch in enumerate(dataloader):\n",
        "        optim.zero_grad()\n",
        "\n",
        "        predict = model(batch['data'].to(device), batch['chars'])\n",
        "        loss = loss_func(predict.view(-1, n_classes),\n",
        "                         batch['target'].to(device).view(-1), \n",
        "                         )\n",
        "        loss.backward()\n",
        "        optim.step()\n",
        "        if i % 100 == 0:\n",
        "            print(f'epoch: {epoch}, step: {i}, loss: {loss.item()}')\n",
        "   \n",
        "    torch.save(model.state_dict(), f'./rnn_chkpt_{epoch}.pth')\n",
        "print(datetime.datetime.now()-model_LSTM_time)"
      ],
      "metadata": {
        "colab": {
          "base_uri": "https://localhost:8080/"
        },
        "id": "WbLYG8BnZdGU",
        "outputId": "7ecb8465-1a09-495a-e5a3-16564ecaa4af"
      },
      "execution_count": 14,
      "outputs": [
        {
          "output_type": "stream",
          "name": "stdout",
          "text": [
            "epoch: 0, step: 0, loss: 2.8396124839782715\n",
            "epoch: 0, step: 100, loss: 0.3641582131385803\n",
            "epoch: 1, step: 0, loss: 0.14743974804878235\n",
            "epoch: 1, step: 100, loss: 0.13808219134807587\n",
            "epoch: 2, step: 0, loss: 0.10868661850690842\n",
            "epoch: 2, step: 100, loss: 0.12357311695814133\n",
            "epoch: 3, step: 0, loss: 0.06724485754966736\n",
            "epoch: 3, step: 100, loss: 0.08600334823131561\n",
            "epoch: 4, step: 0, loss: 0.06318327784538269\n",
            "epoch: 4, step: 100, loss: 0.06649371981620789\n",
            "epoch: 5, step: 0, loss: 0.056914668530225754\n",
            "epoch: 5, step: 100, loss: 0.05416404455900192\n",
            "epoch: 6, step: 0, loss: 0.029226042330265045\n",
            "epoch: 6, step: 100, loss: 0.05820460990071297\n",
            "epoch: 7, step: 0, loss: 0.05282336845993996\n",
            "epoch: 7, step: 100, loss: 0.040207624435424805\n",
            "0:04:21.838769\n",
            "CPU times: user 3min 54s, sys: 3.85 s, total: 3min 58s\n",
            "Wall time: 4min 21s\n"
          ]
        }
      ]
    },
    {
      "cell_type": "code",
      "source": [
        "#example\n",
        "#TODO modify inference for model with char input\n",
        "phrase = 'He ran quickly after the red bus and caught it'\n",
        "words = phrase.split(' ')\n",
        "tokens = [dataset.word_vocab[w] for w in words]\n",
        "chars = [torch.tensor([dataset.char_vocab[c] for c in w]).unsqueeze(0).to(device) for w in words]\n",
        "\n",
        "start = datetime.datetime.now()\n",
        "with torch.no_grad():\n",
        "    model.eval()\n",
        "    predict = model(torch.tensor(tokens).unsqueeze(0).to(device), chars) # 1 x T x N_classes\n",
        "    labels = torch.argmax(predict, dim=-1).squeeze().cpu().detach().tolist()\n",
        "    end = datetime.datetime.now() - start\n",
        "\n",
        "target_labels = list(dataset.target_vocab.keys())\n",
        "print([target_labels[l-1] for l in labels])\n",
        "print(end)"
      ],
      "metadata": {
        "colab": {
          "base_uri": "https://localhost:8080/"
        },
        "id": "yqE3w9TUaAw5",
        "outputId": "6403856a-a0a0-4920-8a4f-1967e48c3f22"
      },
      "execution_count": 15,
      "outputs": [
        {
          "output_type": "stream",
          "name": "stdout",
          "text": [
            "['PRON', 'VERB', 'ADV', 'SCONJ', 'DET', 'ADJ', 'NOUN', 'CCONJ', 'VERB', 'PRON']\n",
            "0:00:00.009018\n"
          ]
        }
      ]
    },
    {
      "cell_type": "code",
      "source": [
        "import pandas as pd\n",
        "itog = pd.DataFrame(data=[['9.20', '11.50', '13.54', '3.37.44', '3.50.59', '4.21.83'],\n",
        "                            ['0.00099', '0.00098', '0.00172', '0.00301','0.0070','0.0090']],\n",
        "                      index = ['Обучение','Тест'],\n",
        "                      columns = ['RNN', 'GRU', 'LSTM','RNN_char', 'GRU_char', 'LSTM_char'])\n",
        "itog"
      ],
      "metadata": {
        "colab": {
          "base_uri": "https://localhost:8080/",
          "height": 112
        },
        "id": "vz2oUey1eZOe",
        "outputId": "0ecb6e0d-a548-4c3c-e2ab-ef3bf09ef290"
      },
      "execution_count": 18,
      "outputs": [
        {
          "output_type": "execute_result",
          "data": {
            "text/plain": [
              "              RNN      GRU     LSTM RNN_char GRU_char LSTM_char\n",
              "Обучение     9.20    11.50    13.54  3.37.44  3.50.59   4.21.83\n",
              "Тест      0.00099  0.00098  0.00172  0.00301   0.0070    0.0090"
            ],
            "text/html": [
              "\n",
              "  <div id=\"df-ab293b1a-29a9-404f-854e-ab5908c6d4ce\">\n",
              "    <div class=\"colab-df-container\">\n",
              "      <div>\n",
              "<style scoped>\n",
              "    .dataframe tbody tr th:only-of-type {\n",
              "        vertical-align: middle;\n",
              "    }\n",
              "\n",
              "    .dataframe tbody tr th {\n",
              "        vertical-align: top;\n",
              "    }\n",
              "\n",
              "    .dataframe thead th {\n",
              "        text-align: right;\n",
              "    }\n",
              "</style>\n",
              "<table border=\"1\" class=\"dataframe\">\n",
              "  <thead>\n",
              "    <tr style=\"text-align: right;\">\n",
              "      <th></th>\n",
              "      <th>RNN</th>\n",
              "      <th>GRU</th>\n",
              "      <th>LSTM</th>\n",
              "      <th>RNN_char</th>\n",
              "      <th>GRU_char</th>\n",
              "      <th>LSTM_char</th>\n",
              "    </tr>\n",
              "  </thead>\n",
              "  <tbody>\n",
              "    <tr>\n",
              "      <th>Обучение</th>\n",
              "      <td>9.20</td>\n",
              "      <td>11.50</td>\n",
              "      <td>13.54</td>\n",
              "      <td>3.37.44</td>\n",
              "      <td>3.50.59</td>\n",
              "      <td>4.21.83</td>\n",
              "    </tr>\n",
              "    <tr>\n",
              "      <th>Тест</th>\n",
              "      <td>0.00099</td>\n",
              "      <td>0.00098</td>\n",
              "      <td>0.00172</td>\n",
              "      <td>0.00301</td>\n",
              "      <td>0.0070</td>\n",
              "      <td>0.0090</td>\n",
              "    </tr>\n",
              "  </tbody>\n",
              "</table>\n",
              "</div>\n",
              "      <button class=\"colab-df-convert\" onclick=\"convertToInteractive('df-ab293b1a-29a9-404f-854e-ab5908c6d4ce')\"\n",
              "              title=\"Convert this dataframe to an interactive table.\"\n",
              "              style=\"display:none;\">\n",
              "        \n",
              "  <svg xmlns=\"http://www.w3.org/2000/svg\" height=\"24px\"viewBox=\"0 0 24 24\"\n",
              "       width=\"24px\">\n",
              "    <path d=\"M0 0h24v24H0V0z\" fill=\"none\"/>\n",
              "    <path d=\"M18.56 5.44l.94 2.06.94-2.06 2.06-.94-2.06-.94-.94-2.06-.94 2.06-2.06.94zm-11 1L8.5 8.5l.94-2.06 2.06-.94-2.06-.94L8.5 2.5l-.94 2.06-2.06.94zm10 10l.94 2.06.94-2.06 2.06-.94-2.06-.94-.94-2.06-.94 2.06-2.06.94z\"/><path d=\"M17.41 7.96l-1.37-1.37c-.4-.4-.92-.59-1.43-.59-.52 0-1.04.2-1.43.59L10.3 9.45l-7.72 7.72c-.78.78-.78 2.05 0 2.83L4 21.41c.39.39.9.59 1.41.59.51 0 1.02-.2 1.41-.59l7.78-7.78 2.81-2.81c.8-.78.8-2.07 0-2.86zM5.41 20L4 18.59l7.72-7.72 1.47 1.35L5.41 20z\"/>\n",
              "  </svg>\n",
              "      </button>\n",
              "      \n",
              "  <style>\n",
              "    .colab-df-container {\n",
              "      display:flex;\n",
              "      flex-wrap:wrap;\n",
              "      gap: 12px;\n",
              "    }\n",
              "\n",
              "    .colab-df-convert {\n",
              "      background-color: #E8F0FE;\n",
              "      border: none;\n",
              "      border-radius: 50%;\n",
              "      cursor: pointer;\n",
              "      display: none;\n",
              "      fill: #1967D2;\n",
              "      height: 32px;\n",
              "      padding: 0 0 0 0;\n",
              "      width: 32px;\n",
              "    }\n",
              "\n",
              "    .colab-df-convert:hover {\n",
              "      background-color: #E2EBFA;\n",
              "      box-shadow: 0px 1px 2px rgba(60, 64, 67, 0.3), 0px 1px 3px 1px rgba(60, 64, 67, 0.15);\n",
              "      fill: #174EA6;\n",
              "    }\n",
              "\n",
              "    [theme=dark] .colab-df-convert {\n",
              "      background-color: #3B4455;\n",
              "      fill: #D2E3FC;\n",
              "    }\n",
              "\n",
              "    [theme=dark] .colab-df-convert:hover {\n",
              "      background-color: #434B5C;\n",
              "      box-shadow: 0px 1px 3px 1px rgba(0, 0, 0, 0.15);\n",
              "      filter: drop-shadow(0px 1px 2px rgba(0, 0, 0, 0.3));\n",
              "      fill: #FFFFFF;\n",
              "    }\n",
              "  </style>\n",
              "\n",
              "      <script>\n",
              "        const buttonEl =\n",
              "          document.querySelector('#df-ab293b1a-29a9-404f-854e-ab5908c6d4ce button.colab-df-convert');\n",
              "        buttonEl.style.display =\n",
              "          google.colab.kernel.accessAllowed ? 'block' : 'none';\n",
              "\n",
              "        async function convertToInteractive(key) {\n",
              "          const element = document.querySelector('#df-ab293b1a-29a9-404f-854e-ab5908c6d4ce');\n",
              "          const dataTable =\n",
              "            await google.colab.kernel.invokeFunction('convertToInteractive',\n",
              "                                                     [key], {});\n",
              "          if (!dataTable) return;\n",
              "\n",
              "          const docLinkHtml = 'Like what you see? Visit the ' +\n",
              "            '<a target=\"_blank\" href=https://colab.research.google.com/notebooks/data_table.ipynb>data table notebook</a>'\n",
              "            + ' to learn more about interactive tables.';\n",
              "          element.innerHTML = '';\n",
              "          dataTable['output_type'] = 'display_data';\n",
              "          await google.colab.output.renderOutput(dataTable, element);\n",
              "          const docLink = document.createElement('div');\n",
              "          docLink.innerHTML = docLinkHtml;\n",
              "          element.appendChild(docLink);\n",
              "        }\n",
              "      </script>\n",
              "    </div>\n",
              "  </div>\n",
              "  "
            ]
          },
          "metadata": {},
          "execution_count": 18
        }
      ]
    },
    {
      "cell_type": "markdown",
      "source": [],
      "metadata": {
        "id": "-57Jq-CW8NmD"
      }
    }
  ]
}