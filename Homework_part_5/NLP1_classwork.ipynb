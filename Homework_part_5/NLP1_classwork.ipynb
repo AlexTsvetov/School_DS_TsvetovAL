{
  "nbformat": 4,
  "nbformat_minor": 0,
  "metadata": {
    "colab": {
      "provenance": []
    },
    "kernelspec": {
      "name": "python3",
      "display_name": "Python 3"
    },
    "language_info": {
      "name": "python"
    }
  },
  "cells": [
    {
      "cell_type": "code",
      "execution_count": 1,
      "metadata": {
        "colab": {
          "base_uri": "https://localhost:8080/"
        },
        "id": "BIvhwE4zxX0s",
        "outputId": "b75d5cab-6462-44d4-abbd-c5aaaec7a0ac"
      },
      "outputs": [
        {
          "output_type": "stream",
          "name": "stdout",
          "text": [
            "Looking in indexes: https://pypi.org/simple, https://us-python.pkg.dev/colab-wheels/public/simple/\n",
            "Requirement already satisfied: nltk in /usr/local/lib/python3.9/dist-packages (3.8.1)\n",
            "Requirement already satisfied: gensim in /usr/local/lib/python3.9/dist-packages (3.6.0)\n",
            "Collecting gensim\n",
            "  Downloading gensim-4.3.1-cp39-cp39-manylinux_2_17_x86_64.manylinux2014_x86_64.whl (26.5 MB)\n",
            "\u001b[2K     \u001b[90m━━━━━━━━━━━━━━━━━━━━━━━━━━━━━━━━━━━━━━━━\u001b[0m \u001b[32m26.5/26.5 MB\u001b[0m \u001b[31m34.0 MB/s\u001b[0m eta \u001b[36m0:00:00\u001b[0m\n",
            "\u001b[?25hRequirement already satisfied: bokeh in /usr/local/lib/python3.9/dist-packages (2.4.3)\n",
            "Collecting bokeh\n",
            "  Downloading bokeh-3.1.0-py3-none-any.whl (8.3 MB)\n",
            "\u001b[2K     \u001b[90m━━━━━━━━━━━━━━━━━━━━━━━━━━━━━━━━━━━━━━━━\u001b[0m \u001b[32m8.3/8.3 MB\u001b[0m \u001b[31m54.0 MB/s\u001b[0m eta \u001b[36m0:00:00\u001b[0m\n",
            "\u001b[?25hCollecting umap-learn\n",
            "  Downloading umap-learn-0.5.3.tar.gz (88 kB)\n",
            "\u001b[2K     \u001b[90m━━━━━━━━━━━━━━━━━━━━━━━━━━━━━━━━━━━━━━━━\u001b[0m \u001b[32m88.2/88.2 KB\u001b[0m \u001b[31m5.1 MB/s\u001b[0m eta \u001b[36m0:00:00\u001b[0m\n",
            "\u001b[?25h  Preparing metadata (setup.py) ... \u001b[?25l\u001b[?25hdone\n",
            "Requirement already satisfied: regex>=2021.8.3 in /usr/local/lib/python3.9/dist-packages (from nltk) (2022.10.31)\n",
            "Requirement already satisfied: tqdm in /usr/local/lib/python3.9/dist-packages (from nltk) (4.65.0)\n",
            "Requirement already satisfied: click in /usr/local/lib/python3.9/dist-packages (from nltk) (8.1.3)\n",
            "Requirement already satisfied: joblib in /usr/local/lib/python3.9/dist-packages (from nltk) (1.1.1)\n",
            "Requirement already satisfied: numpy>=1.18.5 in /usr/local/lib/python3.9/dist-packages (from gensim) (1.22.4)\n",
            "Requirement already satisfied: smart-open>=1.8.1 in /usr/local/lib/python3.9/dist-packages (from gensim) (6.3.0)\n",
            "Requirement already satisfied: scipy>=1.7.0 in /usr/local/lib/python3.9/dist-packages (from gensim) (1.10.1)\n",
            "Requirement already satisfied: packaging>=16.8 in /usr/local/lib/python3.9/dist-packages (from bokeh) (23.0)\n",
            "Requirement already satisfied: PyYAML>=3.10 in /usr/local/lib/python3.9/dist-packages (from bokeh) (6.0)\n",
            "Requirement already satisfied: Jinja2>=2.9 in /usr/local/lib/python3.9/dist-packages (from bokeh) (3.1.2)\n",
            "Requirement already satisfied: pillow>=7.1.0 in /usr/local/lib/python3.9/dist-packages (from bokeh) (8.4.0)\n",
            "Collecting xyzservices>=2021.09.1\n",
            "  Downloading xyzservices-2023.2.0-py3-none-any.whl (55 kB)\n",
            "\u001b[2K     \u001b[90m━━━━━━━━━━━━━━━━━━━━━━━━━━━━━━━━━━━━━━━━\u001b[0m \u001b[32m55.4/55.4 KB\u001b[0m \u001b[31m3.8 MB/s\u001b[0m eta \u001b[36m0:00:00\u001b[0m\n",
            "\u001b[?25hRequirement already satisfied: pandas>=1.2 in /usr/local/lib/python3.9/dist-packages (from bokeh) (1.4.4)\n",
            "Requirement already satisfied: tornado>=5.1 in /usr/local/lib/python3.9/dist-packages (from bokeh) (6.2)\n",
            "Requirement already satisfied: contourpy>=1 in /usr/local/lib/python3.9/dist-packages (from bokeh) (1.0.7)\n",
            "Requirement already satisfied: scikit-learn>=0.22 in /usr/local/lib/python3.9/dist-packages (from umap-learn) (1.2.2)\n",
            "Requirement already satisfied: numba>=0.49 in /usr/local/lib/python3.9/dist-packages (from umap-learn) (0.56.4)\n",
            "Collecting pynndescent>=0.5\n",
            "  Downloading pynndescent-0.5.8.tar.gz (1.1 MB)\n",
            "\u001b[2K     \u001b[90m━━━━━━━━━━━━━━━━━━━━━━━━━━━━━━━━━━━━━━━━\u001b[0m \u001b[32m1.1/1.1 MB\u001b[0m \u001b[31m33.7 MB/s\u001b[0m eta \u001b[36m0:00:00\u001b[0m\n",
            "\u001b[?25h  Preparing metadata (setup.py) ... \u001b[?25l\u001b[?25hdone\n",
            "Requirement already satisfied: MarkupSafe>=2.0 in /usr/local/lib/python3.9/dist-packages (from Jinja2>=2.9->bokeh) (2.1.2)\n",
            "Requirement already satisfied: llvmlite<0.40,>=0.39.0dev0 in /usr/local/lib/python3.9/dist-packages (from numba>=0.49->umap-learn) (0.39.1)\n",
            "Requirement already satisfied: setuptools in /usr/local/lib/python3.9/dist-packages (from numba>=0.49->umap-learn) (63.4.3)\n",
            "Requirement already satisfied: pytz>=2020.1 in /usr/local/lib/python3.9/dist-packages (from pandas>=1.2->bokeh) (2022.7.1)\n",
            "Requirement already satisfied: python-dateutil>=2.8.1 in /usr/local/lib/python3.9/dist-packages (from pandas>=1.2->bokeh) (2.8.2)\n",
            "Requirement already satisfied: threadpoolctl>=2.0.0 in /usr/local/lib/python3.9/dist-packages (from scikit-learn>=0.22->umap-learn) (3.1.0)\n",
            "Requirement already satisfied: six>=1.5 in /usr/local/lib/python3.9/dist-packages (from python-dateutil>=2.8.1->pandas>=1.2->bokeh) (1.16.0)\n",
            "Building wheels for collected packages: umap-learn, pynndescent\n",
            "  Building wheel for umap-learn (setup.py) ... \u001b[?25l\u001b[?25hdone\n",
            "  Created wheel for umap-learn: filename=umap_learn-0.5.3-py3-none-any.whl size=82830 sha256=762624147a8a67fa46cd6904808ba64b5fb9169b5d749fcef9a3bd3b52a66ecc\n",
            "  Stored in directory: /root/.cache/pip/wheels/f4/3e/1c/596d0a463d17475af648688443fa4846fef624d1390339e7e9\n",
            "  Building wheel for pynndescent (setup.py) ... \u001b[?25l\u001b[?25hdone\n",
            "  Created wheel for pynndescent: filename=pynndescent-0.5.8-py3-none-any.whl size=55509 sha256=100878adc392ba197658e36d3706f8a9674c6d0dda9066c445ade41a3d4efdab\n",
            "  Stored in directory: /root/.cache/pip/wheels/b9/89/cc/59ab91ef5b21dc2ab3635528d7d227f49dfc9169905dcb959d\n",
            "Successfully built umap-learn pynndescent\n",
            "Installing collected packages: xyzservices, gensim, pynndescent, bokeh, umap-learn\n",
            "  Attempting uninstall: gensim\n",
            "    Found existing installation: gensim 3.6.0\n",
            "    Uninstalling gensim-3.6.0:\n",
            "      Successfully uninstalled gensim-3.6.0\n",
            "  Attempting uninstall: bokeh\n",
            "    Found existing installation: bokeh 2.4.3\n",
            "    Uninstalling bokeh-2.4.3:\n",
            "      Successfully uninstalled bokeh-2.4.3\n",
            "\u001b[31mERROR: pip's dependency resolver does not currently take into account all the packages that are installed. This behaviour is the source of the following dependency conflicts.\n",
            "panel 0.14.4 requires bokeh<2.5.0,>=2.4.0, but you have bokeh 3.1.0 which is incompatible.\u001b[0m\u001b[31m\n",
            "\u001b[0mSuccessfully installed bokeh-3.1.0 gensim-4.3.1 pynndescent-0.5.8 umap-learn-0.5.3 xyzservices-2023.2.0\n"
          ]
        },
        {
          "output_type": "stream",
          "name": "stderr",
          "text": [
            "[nltk_data] Downloading package wordnet to /root/nltk_data...\n",
            "[nltk_data] Downloading package omw-1.4 to /root/nltk_data...\n"
          ]
        }
      ],
      "source": [
        "#Установка нужных пакетов\n",
        "!pip install --upgrade nltk gensim bokeh umap-learn\n",
        "\n",
        "import itertools\n",
        "import string\n",
        "\n",
        "import numpy as np\n",
        "import umap\n",
        "\n",
        "from nltk.tokenize import WordPunctTokenizer\n",
        "from matplotlib import pyplot as plt\n",
        "\n",
        "from IPython.display import clear_output\n",
        "\n",
        "import nltk\n",
        "nltk.download('wordnet')\n",
        "nltk.download('omw-1.4')\n",
        "from nltk.stem import WordNetLemmatizer\n",
        "from nltk.stem import PorterStemmer\n",
        "from nltk.tokenize import word_tokenize\n",
        "\n",
        "ps = PorterStemmer()\n",
        "lemmatizer = WordNetLemmatizer()"
      ]
    },
    {
      "cell_type": "code",
      "source": [
        "# выгружаем датасет:\n",
        "!wget https://www.dropbox.com/s/obaitrix9jyu84r/quora.txt?dl=1 -O ./quora.txt -nc"
      ],
      "metadata": {
        "colab": {
          "base_uri": "https://localhost:8080/"
        },
        "id": "hF9WPCtfxZR9",
        "outputId": "afccc8ea-2018-48e8-cd1b-f29e7c3314ed"
      },
      "execution_count": 2,
      "outputs": [
        {
          "output_type": "stream",
          "name": "stdout",
          "text": [
            "--2023-03-21 17:08:21--  https://www.dropbox.com/s/obaitrix9jyu84r/quora.txt?dl=1\n",
            "Resolving www.dropbox.com (www.dropbox.com)... 162.125.3.18, 2620:100:6018:18::a27d:312\n",
            "Connecting to www.dropbox.com (www.dropbox.com)|162.125.3.18|:443... connected.\n",
            "HTTP request sent, awaiting response... 302 Found\n",
            "Location: /s/dl/obaitrix9jyu84r/quora.txt [following]\n",
            "--2023-03-21 17:08:21--  https://www.dropbox.com/s/dl/obaitrix9jyu84r/quora.txt\n",
            "Reusing existing connection to www.dropbox.com:443.\n",
            "HTTP request sent, awaiting response... 302 Found\n",
            "Location: https://ucf3261d02bef4a2bc3c84d5b61f.dl.dropboxusercontent.com/cd/0/get/B4r3XVLbhpvtGUZ0MGdp663wAbR-08rgaLa179yzxOFuI9YS9aUxl1J0joeeY4EuJxjUCmjqFByewUnhEXUYkzp8eRV0qTt-zuL0DIFrgpauIbjmP5Ok6edVIKf6ATb3em4yNdW6LlZOrMAmQEavxnxcPmLWwJuDEic9iz66Q_6Glg/file?dl=1# [following]\n",
            "--2023-03-21 17:08:21--  https://ucf3261d02bef4a2bc3c84d5b61f.dl.dropboxusercontent.com/cd/0/get/B4r3XVLbhpvtGUZ0MGdp663wAbR-08rgaLa179yzxOFuI9YS9aUxl1J0joeeY4EuJxjUCmjqFByewUnhEXUYkzp8eRV0qTt-zuL0DIFrgpauIbjmP5Ok6edVIKf6ATb3em4yNdW6LlZOrMAmQEavxnxcPmLWwJuDEic9iz66Q_6Glg/file?dl=1\n",
            "Resolving ucf3261d02bef4a2bc3c84d5b61f.dl.dropboxusercontent.com (ucf3261d02bef4a2bc3c84d5b61f.dl.dropboxusercontent.com)... 162.125.3.15, 2620:100:6018:15::a27d:30f\n",
            "Connecting to ucf3261d02bef4a2bc3c84d5b61f.dl.dropboxusercontent.com (ucf3261d02bef4a2bc3c84d5b61f.dl.dropboxusercontent.com)|162.125.3.15|:443... connected.\n",
            "HTTP request sent, awaiting response... 200 OK\n",
            "Length: 33813903 (32M) [application/binary]\n",
            "Saving to: ‘./quora.txt’\n",
            "\n",
            "./quora.txt         100%[===================>]  32.25M  37.1MB/s    in 0.9s    \n",
            "\n",
            "2023-03-21 17:08:23 (37.1 MB/s) - ‘./quora.txt’ saved [33813903/33813903]\n",
            "\n"
          ]
        }
      ]
    },
    {
      "cell_type": "code",
      "source": [
        "data = list(open(\"./quora.txt\", encoding=\"utf-8\"))\n",
        "data[50]"
      ],
      "metadata": {
        "colab": {
          "base_uri": "https://localhost:8080/",
          "height": 36
        },
        "id": "MaFpN9pvxtNg",
        "outputId": "9a426d9e-0594-4783-bbd5-86aa95184d2e"
      },
      "execution_count": 3,
      "outputs": [
        {
          "output_type": "execute_result",
          "data": {
            "text/plain": [
              "\"What TV shows or books help you read people's body language?\\n\""
            ],
            "application/vnd.google.colaboratory.intrinsic+json": {
              "type": "string"
            }
          },
          "metadata": {},
          "execution_count": 3
        }
      ]
    },
    {
      "cell_type": "code",
      "source": [
        "tokenizer = WordPunctTokenizer()\n",
        "print(tokenizer.tokenize(data[50]))"
      ],
      "metadata": {
        "colab": {
          "base_uri": "https://localhost:8080/"
        },
        "id": "HvXRbOKGx0l_",
        "outputId": "076e4685-6c9c-4dce-9a87-0ce73aa1500c"
      },
      "execution_count": 4,
      "outputs": [
        {
          "output_type": "stream",
          "name": "stdout",
          "text": [
            "['What', 'TV', 'shows', 'or', 'books', 'help', 'you', 'read', 'people', \"'\", 's', 'body', 'language', '?']\n"
          ]
        }
      ]
    },
    {
      "cell_type": "markdown",
      "source": [
        "#Задание 1: Перевести все слова в нижний регистр (NLTK) из data и добавьте как лист токенов в листе data_tok\n"
      ],
      "metadata": {
        "id": "ovkxi_QOySCl"
      }
    },
    {
      "cell_type": "code",
      "source": [
        "data_tok = []\n",
        "for i in data:\n",
        "  s= [x.lower() for x in tokenizer.tokenize(i)]\n",
        "  data_tok.append(s)\n",
        "\n",
        "\n",
        "\n",
        "#checking\n",
        "\n",
        "assert all(isinstance(row, (list, tuple)) for row in data_tok), \"please convert each line into a list of tokens (strings)\"\n",
        "is_latin = lambda tok: all('a' <= x.lower() <= 'z' for x in tok)\n",
        "assert all(map(lambda l: not is_latin(l) or l.islower(), map(' '.join, data_tok))), \"please make sure to lowercase the data\""
      ],
      "metadata": {
        "id": "EK7uvHi6zeWY"
      },
      "execution_count": 5,
      "outputs": []
    },
    {
      "cell_type": "code",
      "source": [
        "data_tok[0:5]"
      ],
      "metadata": {
        "id": "gj42_ljhYITU",
        "outputId": "3d9b9ff6-6b94-4a5d-9fce-43f9a3d79710",
        "colab": {
          "base_uri": "https://localhost:8080/"
        }
      },
      "execution_count": 6,
      "outputs": [
        {
          "output_type": "execute_result",
          "data": {
            "text/plain": [
              "[['can',\n",
              "  'i',\n",
              "  'get',\n",
              "  'back',\n",
              "  'with',\n",
              "  'my',\n",
              "  'ex',\n",
              "  'even',\n",
              "  'though',\n",
              "  'she',\n",
              "  'is',\n",
              "  'pregnant',\n",
              "  'with',\n",
              "  'another',\n",
              "  'guy',\n",
              "  \"'\",\n",
              "  's',\n",
              "  'baby',\n",
              "  '?'],\n",
              " ['what',\n",
              "  'are',\n",
              "  'some',\n",
              "  'ways',\n",
              "  'to',\n",
              "  'overcome',\n",
              "  'a',\n",
              "  'fast',\n",
              "  'food',\n",
              "  'addiction',\n",
              "  '?'],\n",
              " ['who',\n",
              "  'were',\n",
              "  'the',\n",
              "  'great',\n",
              "  'chinese',\n",
              "  'soldiers',\n",
              "  'and',\n",
              "  'leaders',\n",
              "  'who',\n",
              "  'fought',\n",
              "  'in',\n",
              "  'ww2',\n",
              "  '?'],\n",
              " ['what', 'are', 'zip', 'codes', 'in', 'the', 'bay', 'area', '?'],\n",
              " ['why',\n",
              "  'was',\n",
              "  'george',\n",
              "  'rr',\n",
              "  'martin',\n",
              "  'critical',\n",
              "  'of',\n",
              "  'jk',\n",
              "  'rowling',\n",
              "  'after',\n",
              "  'losing',\n",
              "  'the',\n",
              "  'hugo',\n",
              "  'award',\n",
              "  '?']]"
            ]
          },
          "metadata": {},
          "execution_count": 6
        }
      ]
    },
    {
      "cell_type": "markdown",
      "source": [
        "###Задание 2: Подсчитайте топ10 самых популярных лем в рамках data"
      ],
      "metadata": {
        "id": "dtKeoLCYzY4j"
      }
    },
    {
      "cell_type": "code",
      "source": [
        "from nltk.probability import FreqDist"
      ],
      "metadata": {
        "id": "vteBLU6BY-13"
      },
      "execution_count": 7,
      "outputs": []
    },
    {
      "cell_type": "code",
      "source": [
        "all_tokens = []\n",
        "for a in data_tok:\n",
        "    all_tokens.extend(a)\n",
        "fdist = FreqDist(all_tokens)\n",
        "fdist.most_common(10)"
      ],
      "metadata": {
        "id": "a_BxzSv9yR0w",
        "colab": {
          "base_uri": "https://localhost:8080/"
        },
        "outputId": "6d1947f6-4cc8-4ff5-c656-8c15de7557c5"
      },
      "execution_count": 8,
      "outputs": [
        {
          "output_type": "execute_result",
          "data": {
            "text/plain": [
              "[('?', 552413),\n",
              " ('the', 252068),\n",
              " ('what', 214798),\n",
              " ('is', 185392),\n",
              " ('a', 155726),\n",
              " ('i', 149735),\n",
              " ('to', 141788),\n",
              " ('in', 139787),\n",
              " ('how', 135687),\n",
              " ('of', 112001)]"
            ]
          },
          "metadata": {},
          "execution_count": 8
        }
      ]
    },
    {
      "cell_type": "markdown",
      "source": [
        "###Задание 3: Подсчитайте количество разных слов до и после лемматизации"
      ],
      "metadata": {
        "id": "a1SM3sn1zf1b"
      }
    },
    {
      "cell_type": "code",
      "source": [
        "after_lemm = set()\n",
        "for a in all_tokens:\n",
        "    after_lemm.add(lemmatizer.lemmatize(a))"
      ],
      "metadata": {
        "id": "rKFgJqE2b2yu"
      },
      "execution_count": 10,
      "outputs": []
    },
    {
      "cell_type": "code",
      "source": [
        "do = len(set(fdist))\n",
        "posle = len(after_lemm)\n",
        "print(f'Do lem = {do}, Posle lem = {posle}')"
      ],
      "metadata": {
        "id": "D3goGfRMcDAF",
        "outputId": "782192e6-516d-4a4c-90d6-54a72e0c9520",
        "colab": {
          "base_uri": "https://localhost:8080/"
        }
      },
      "execution_count": 11,
      "outputs": [
        {
          "output_type": "stream",
          "name": "stdout",
          "text": [
            "Do lem = 87820, Posle lem = 80304\n"
          ]
        }
      ]
    },
    {
      "cell_type": "markdown",
      "source": [
        "###Задание 4: Подсчитайте количество разных слов до и после стемминга"
      ],
      "metadata": {
        "id": "uxKa8yUUzqNN"
      }
    },
    {
      "cell_type": "code",
      "source": [
        "after_lemm_stem = set()\n",
        "for a in all_tokens:\n",
        "    after_lemm_stem.add(ps.stem(a))"
      ],
      "metadata": {
        "id": "x91DX51qzszR"
      },
      "execution_count": 12,
      "outputs": []
    },
    {
      "cell_type": "code",
      "source": [
        "print(f'Do stem = {do}, Posle stem = {len(after_lemm_stem)}')"
      ],
      "metadata": {
        "id": "v-xWTwGKcuE1",
        "outputId": "e2ad3b05-e06d-433d-ef87-9d0a6127d47b",
        "colab": {
          "base_uri": "https://localhost:8080/"
        }
      },
      "execution_count": 13,
      "outputs": [
        {
          "output_type": "stream",
          "name": "stdout",
          "text": [
            "Do stem = 87820, Posle stem = 67026\n"
          ]
        }
      ]
    },
    {
      "cell_type": "markdown",
      "source": [
        "###Задание 5: Подсчитайте количество разных слов\n",
        "нужно посчитать (на базе предыдущих упражнений)\n",
        "- до лемматизации и стеминнга\n",
        "- после стемминга\n",
        "- после лемматизации\n",
        "- после стеминга и лемматизации\n",
        "\n",
        "и отдельно сравнить (для важности корректного порядка процедур)\n",
        "\n",
        "1. сначала стеминг, потом лемматизацию\n",
        "2. сначала лемматизацию, потом стемминг"
      ],
      "metadata": {
        "id": "XXA7Fe_izuqh"
      }
    },
    {
      "cell_type": "code",
      "source": [
        "#до лемматизации и стеминнга\n",
        "print(len(set(fdist)))"
      ],
      "metadata": {
        "id": "BGgmHzUAzwqO",
        "colab": {
          "base_uri": "https://localhost:8080/"
        },
        "outputId": "7c13a91b-2df2-4be8-f269-62e985ab8399"
      },
      "execution_count": 14,
      "outputs": [
        {
          "output_type": "stream",
          "name": "stdout",
          "text": [
            "87820\n"
          ]
        }
      ]
    },
    {
      "cell_type": "code",
      "source": [
        "#после стемминга\n",
        "print(len(after_lemm_stem))"
      ],
      "metadata": {
        "colab": {
          "base_uri": "https://localhost:8080/"
        },
        "id": "KqAXqZRDLU20",
        "outputId": "a12cfa81-38ed-4747-b992-e72a9192f350"
      },
      "execution_count": 15,
      "outputs": [
        {
          "output_type": "stream",
          "name": "stdout",
          "text": [
            "67026\n"
          ]
        }
      ]
    },
    {
      "cell_type": "code",
      "source": [
        "#после лемматизации\n",
        "print(posle)"
      ],
      "metadata": {
        "colab": {
          "base_uri": "https://localhost:8080/"
        },
        "id": "F1OnwwgoLd7S",
        "outputId": "efdfa82b-20e1-45d9-b946-26855e70beb9"
      },
      "execution_count": 16,
      "outputs": [
        {
          "output_type": "stream",
          "name": "stdout",
          "text": [
            "80304\n"
          ]
        }
      ]
    },
    {
      "cell_type": "code",
      "source": [
        "lemm_to_stem = set()\n",
        "for i in all_tokens:\n",
        "    lemm_to_stem.add(ps.stem(lemmatizer.lemmatize(i)))"
      ],
      "metadata": {
        "id": "apGyk6DBMUOc"
      },
      "execution_count": 19,
      "outputs": []
    },
    {
      "cell_type": "code",
      "source": [
        "print(f'Cначала лемматизация, потом стемминг = {len(lemm_to_stem)}')"
      ],
      "metadata": {
        "colab": {
          "base_uri": "https://localhost:8080/"
        },
        "id": "Qlv3wh3RNMBV",
        "outputId": "7baec194-6c81-47a0-c98a-1a296d31fb19"
      },
      "execution_count": 20,
      "outputs": [
        {
          "output_type": "stream",
          "name": "stdout",
          "text": [
            "Cначала лемматизация, потом стемминг = 66835\n"
          ]
        }
      ]
    },
    {
      "cell_type": "code",
      "source": [
        "stem_to_lemm = set()\n",
        "for i in all_tokens:\n",
        "    stem_to_lemm.add(lemmatizer.lemmatize(ps.stem(i)))"
      ],
      "metadata": {
        "id": "9vxv94e4Mspx"
      },
      "execution_count": 21,
      "outputs": []
    },
    {
      "cell_type": "code",
      "source": [
        "print(f'Cначала стеминг, потом лемматизация = {len(stem_to_lemm)}')"
      ],
      "metadata": {
        "colab": {
          "base_uri": "https://localhost:8080/"
        },
        "id": "aRseH6yJOXCo",
        "outputId": "cc3c6293-d246-47f3-e7a4-29681734c658"
      },
      "execution_count": 22,
      "outputs": [
        {
          "output_type": "stream",
          "name": "stdout",
          "text": [
            "Cначала стеминг, потом лемматизация = 66818\n"
          ]
        }
      ]
    },
    {
      "cell_type": "code",
      "source": [
        "#после выполнения задяния, можно сделать вывод, что сначала необходимо выполнять лемматизацию, а потом стемминг."
      ],
      "metadata": {
        "id": "yH0WjTAqPNsy"
      },
      "execution_count": null,
      "outputs": []
    }
  ]
}